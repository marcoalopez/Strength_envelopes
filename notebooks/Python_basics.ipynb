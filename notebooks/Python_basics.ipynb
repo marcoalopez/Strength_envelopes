{
 "cells": [
  {
   "cell_type": "markdown",
   "metadata": {},
   "source": [
    "# Python basics\n",
    "\n",
    "Copyright 2020 Marco A. Lopez-Sanchez.  \n",
    "Content under [Creative Commons Attribution license CC-BY 4.0](https://creativecommons.org/licenses/by/4.0/), code under [Mozilla Public License 2.0](https://www.mozilla.org/en-US/MPL/2.0/).\n",
    "\n",
    "> **Goals**: Learn the basics of the Python language in order to interact with the notebooks.\n",
    "\n",
    "\n",
    "## What is Python?\n",
    "\n",
    "[Python](https://www.python.org/) is an _interpreted_, _high-level_, _general-purpose_, _multi-paradigm_ programming language. In a nutshell:\n",
    "- _Interpreted_ means that a sequence of instructions written by the programmer (\"the source code\") is readed and executed by an interpreter (i.e. executed immediately with no compilation needed). This allows an interactivity that is advantageous for learning and for scientific analysis and data processing.\n",
    "- _High-level_ (of abstraction) means that the syntax of language is designed to be easily understood by humans (not by the machine). Indeed, the Python's design philosophy emphasizes code readability (human-readable code) and it is therefore an easy to learn programming language.\n",
    "- _General-purpose_ that the language is not specifically targeted to numerical computing as for example Fortran, R, Matlab or Julia. In fact, the Python programming language is used indistinctly for Web or GUI Development, Software Development, System Administration, etc., and, of course, for Scientific and Numerical computing. \n",
    "- _Multi-paradigm_ which is a language that supports different types of programming (declarative, functional, object-oriented, etc.).\n",
    "\n",
    "Some of the Python advantages over many other languages are that it is completely free and open-source (I am watching you Matlab), ... and especially that their scientific libraries ecosystem is very mature (less prone to contain errors) yet very lively nowadays.\n",
    "\n",
    "## Basic elements of Python\n",
    "\n",
    "### Object types, variables and arithmetic operators in Python\n",
    "\n",
    "### Calling functions\n",
    "\n",
    "### if, elif and else statements\n",
    "\n",
    "### prints\n",
    "\n",
    "## Creating and working with functions\n",
    "\n",
    "## Matplotlib: the Python (default) plotting library\n",
    "\n",
    "\n",
    "## Numpy arrays\n",
    "\n",
    "\n",
    "## Pandas Dataframes\n",
    "\n"
   ]
  },
  {
   "cell_type": "code",
   "execution_count": null,
   "metadata": {},
   "outputs": [],
   "source": []
  }
 ],
 "metadata": {
  "kernelspec": {
   "display_name": "Python 3",
   "language": "python",
   "name": "python3"
  },
  "language_info": {
   "codemirror_mode": {
    "name": "ipython",
    "version": 3
   },
   "file_extension": ".py",
   "mimetype": "text/x-python",
   "name": "python",
   "nbconvert_exporter": "python",
   "pygments_lexer": "ipython3",
   "version": "3.7.9"
  }
 },
 "nbformat": 4,
 "nbformat_minor": 4
}
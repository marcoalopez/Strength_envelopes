{
 "cells": [
  {
   "cell_type": "markdown",
   "metadata": {},
   "source": [
    "# Python basics\n",
    "\n",
    "Copyright 2020 Marco A. Lopez-Sanchez.  \n",
    "Content under [Creative Commons Attribution license CC-BY 4.0](https://creativecommons.org/licenses/by/4.0/), code under [Mozilla Public License 2.0](https://www.mozilla.org/en-US/MPL/2.0/).\n",
    "\n",
    "> **Goals**: Learn the basics of the Python language in order to interact with the notebooks. Note that this is by no means a tutorial to learn scientific Python but a tutorial with the basics to understand the code used in the notebooks.\n",
    "\n",
    "\n",
    "## What is Python?\n",
    "\n",
    "[Python](https://www.python.org/) is an _interpreted_, _high-level_, _general-purpose_, _multi-paradigm_ programming language. In a nutshell:\n",
    "- _Interpreted_ means that a sequence of instructions written by the programmer (\"the source code\") is readed and executed by an interpreter (i.e. executed immediately with no compilation needed). This allows an interactivity that is advantageous for learning and for scientific analysis and data processing.\n",
    "- _High-level_ (of abstraction) means that the syntax of language is designed to be easily understood by humans (not by the machine). Indeed, the Python's design philosophy emphasizes code readability (human-readable code) and it is therefore an easy to learn.\n",
    "- _General-purpose_ means that the language is not specifically targeted to numerical computing as for example Fortran, R, Matlab or Julia. In fact, the Python programming language is used indistinctly for Web or GUI Development, Software Development (e.g. Youtube, Reddit, Dropbox...), System Administration, etc., and, of course, for Scientific and Numerical computing. \n",
    "- _Multi-paradigm_ means that it is a language that supports different types of programming (declarative, functional, object-oriented, etc.).\n",
    "\n",
    "Some of the highlights of Python are that it is completely free and open source, easy to learn,a widely adopted and mature programming language (i.e. less prone to errors) with has a large ecosystem of well-documented scientific libraries (in general), and its general-purpose nature makes it a very versatile programming language (beyond its use as a scientific tool)."
   ]
  },
  {
   "cell_type": "markdown",
   "metadata": {},
   "source": [
    "## Basic elements of Python\n",
    "\n",
    "### Python as a calculator (arithmetic operators in Python)"
   ]
  },
  {
   "cell_type": "code",
   "execution_count": 1,
   "metadata": {},
   "outputs": [
    {
     "name": "stdout",
     "output_type": "stream",
     "text": [
      "Hello world!\n"
     ]
    },
    {
     "data": {
      "text/plain": [
       "9"
      ]
     },
     "execution_count": 1,
     "metadata": {},
     "output_type": "execute_result"
    }
   ],
   "source": [
    "# this is a Python comment and will be ignored by the Python interpreter \n",
    "print('Hello world!')\n",
    "4 + 5"
   ]
  },
  {
   "cell_type": "markdown",
   "metadata": {},
   "source": [
    "### Object types and variables\n",
    "\n",
    "We can define a variable using = (i.e. assignment) as follows"
   ]
  },
  {
   "cell_type": "code",
   "execution_count": 2,
   "metadata": {},
   "outputs": [
    {
     "name": "stdout",
     "output_type": "stream",
     "text": [
      "7\n"
     ]
    }
   ],
   "source": [
    "x = 7\n",
    "print(x)"
   ]
  },
  {
   "cell_type": "markdown",
   "metadata": {},
   "source": [
    "Python allows multiple variable assignment as follows"
   ]
  },
  {
   "cell_type": "code",
   "execution_count": 7,
   "metadata": {},
   "outputs": [
    {
     "name": "stdout",
     "output_type": "stream",
     "text": [
      "a = 2\n",
      "b = 4.5\n",
      "c = hello\n"
     ]
    }
   ],
   "source": [
    "a, b, c = 2, 4.5, 'hello'\n",
    "print('a =', a) \n",
    "print('b =', b) \n",
    "print('c =', c)"
   ]
  },
  {
   "cell_type": "markdown",
   "metadata": {},
   "source": [
    "Python has the following fundamental data types (or classes)\n",
    "\n",
    "```\n",
    "# NUMBERS\n",
    "int      # integer numbers\n",
    "float    # floating-point numbers (i.e. a representation of a real number)\n",
    "complex  # complex numbers, 'real part' + 'imaginaty part'j (note the use of j instead of i)\n",
    "\n",
    "# OTHERS\n",
    "str      # strings or sequences of character data\n",
    "bool     # boolean type, either True or False\n",
    "None     # Null (value) or NoneType\n",
    "```\n",
    "\n",
    "We can ask what type of variable is using ``type()``"
   ]
  },
  {
   "cell_type": "code",
   "execution_count": 4,
   "metadata": {},
   "outputs": [
    {
     "data": {
      "text/plain": [
       "(int, float, str, bool, complex, NoneType)"
      ]
     },
     "execution_count": 4,
     "metadata": {},
     "output_type": "execute_result"
    }
   ],
   "source": [
    "d = True\n",
    "e = 1 + 3j\n",
    "f = None\n",
    "\n",
    "type(a), type(b), type(c), type (d), type (e), type(f)"
   ]
  },
  {
   "cell_type": "code",
   "execution_count": 5,
   "metadata": {},
   "outputs": [
    {
     "data": {
      "text/plain": [
       "0.0053"
      ]
     },
     "execution_count": 5,
     "metadata": {},
     "output_type": "execute_result"
    }
   ],
   "source": [
    "# float data type allows scientific notation\n",
    "5.3e-3"
   ]
  },
  {
   "cell_type": "code",
   "execution_count": 6,
   "metadata": {},
   "outputs": [
    {
     "name": "stdout",
     "output_type": "stream",
     "text": [
      "a string another string\n"
     ]
    }
   ],
   "source": [
    "# strings can be written either within single or double quotes\n",
    "foo, bar = 'a string', \"another string\"\n",
    "print(foo, bar)"
   ]
  },
  {
   "cell_type": "markdown",
   "metadata": {},
   "source": [
    "> Gotchas\n",
    "> - '17' or \"17\" is a string not an integer\n",
    "> - int(17.8) is not 18 but 17, to round numbers never convert a float to integer but use the built-in Python method round() or the Numpy method around() (see later un Numpy)\n",
    "\n",
    "TODO"
   ]
  },
  {
   "cell_type": "markdown",
   "metadata": {},
   "source": [
    "#### Operators\n",
    "\n",
    "Python has the following arithmetic operators\n",
    "\n",
    "```\n",
    "+   # addition  \n",
    "-   # subtraction\n",
    "*   # multiplication\n",
    "/   # division\n",
    "//  # floor division\n",
    "**  # exponentiation  \n",
    "%   # modulus or remainder  \n",
    "```\n",
    "assignment and comparison operators (not exhaustive)\n",
    "```\n",
    "=   # assignment\n",
    "+=  # a += 5 equivalent to a = a + 5\n",
    "\n",
    "==  # equality or equal to  \n",
    "!=  # inequality or not equal to \n",
    "<   # less than\n",
    ">   # larger than\n",
    "<=  # less than or equal to  \n",
    ">=  # greater than or equal to  \n",
    "```\n",
    "\n",
    "logical operators\n",
    "```\n",
    "and  # returns true if both statements are true  \n",
    "or   # returns true if one of the statements are true \n",
    "not  # true if statement is false\n",
    "is   # returns true is both variables are the same object\n",
    "is not  # returns true is both variables are not the same object \n",
    "in   # returns true is a value is present in the object  \n",
    "not in  # returns true is a value is not present in the object  \n",
    "```\n",
    "\n",
    "bitwise operators (the ones to use with arrays!)\n",
    "```\n",
    "&  # bitwise AND  \n",
    "|  # bitwise OR \n",
    "~  # bitwise NOT\n",
    "^  # bitwise XOR\n",
    "```\n",
    "\n",
    "### Calling functions\n",
    "\n",
    "### Conditionals: if, elif and else statements\n",
    "\n",
    "### print formatting\n",
    "\n",
    "## Python functions\n",
    "\n",
    "## Matplotlib: the Python (default) plotting library\n",
    "\n",
    "\n",
    "## Numpy arrays\n",
    "\n",
    "\n",
    "## Pandas Dataframes"
   ]
  },
  {
   "cell_type": "code",
   "execution_count": null,
   "metadata": {},
   "outputs": [],
   "source": []
  }
 ],
 "metadata": {
  "kernelspec": {
   "display_name": "Python 3",
   "language": "python",
   "name": "python3"
  },
  "language_info": {
   "codemirror_mode": {
    "name": "ipython",
    "version": 3
   },
   "file_extension": ".py",
   "mimetype": "text/x-python",
   "name": "python",
   "nbconvert_exporter": "python",
   "pygments_lexer": "ipython3",
   "version": "3.7.9"
  }
 },
 "nbformat": 4,
 "nbformat_minor": 4
}
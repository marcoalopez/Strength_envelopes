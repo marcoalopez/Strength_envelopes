{
 "cells": [
  {
   "cell_type": "markdown",
   "metadata": {},
   "source": [
    "# Python basics\n",
    "\n",
    "Copyright 2020 Marco A. Lopez-Sanchez.  \n",
    "Content under [Creative Commons Attribution license CC-BY 4.0](https://creativecommons.org/licenses/by/4.0/), code under [Mozilla Public License 2.0](https://www.mozilla.org/en-US/MPL/2.0/).\n",
    "\n",
    "> **Goals**: Learn the basics of the Python programming language and some of its core scientific libraries to interact with the notebooks. Note that this is by no means a tutorial to learn scientific Python but a tutorial with the basics to understand the code used in the notebooks.\n",
    "\n",
    "\n",
    "## 1. What is Python?\n",
    "\n",
    "[Python](https://www.python.org/) is an _interpreted_, _high-level_, _general-purpose_, _multi-paradigm_ programming language. In a nutshell:\n",
    "- _Interpreted_ means that a sequence of instructions written by the programmer (\"the source code\") is read and executed by an interpreter (i.e. executed immediately without compilation). This allows interactivity that is advantageous for learning and for scientific analysis.\n",
    "- _High-level_ (of abstraction) means that the syntax of thelanguage is designed to be easily understood by humans. Indeed, Python's design philosophy emphasizes code readability (human-readable code).\n",
    "- _General-purpose_ means that the language is not specifically targeted to numerical computing as for example Fortran, R, Matlab or Julia. In fact, the Python programming language is used indistinctly for Web or Software Development (e.g. Youtube, Reddit, Dropbox...), System Administration, games, etc., and, of course, for Scientific and Numerical computing. \n",
    "- _Multi-paradigm_ means that the language supports different types of programming (declarative, functional, object-oriented, etc.)\n",
    "\n",
    "Some of the Python highlights are:\n",
    "- completely free and open-source programming language,\n",
    "- easy to learn,\n",
    "- widely adopted and with a good balance between cutting-edge and mature scientific libraries (i.e. tested in production for decades and less prone to errors)\n",
    "- Usually well-documented scientific libraries,\n",
    "- its general-purpose nature makes it a very versatile programming language (beyond its use as a scientific tool)."
   ]
  },
  {
   "cell_type": "markdown",
   "metadata": {},
   "source": [
    "## 2. Basic elements of Python"
   ]
  },
  {
   "cell_type": "code",
   "execution_count": 10,
   "metadata": {},
   "outputs": [
    {
     "name": "stdout",
     "output_type": "stream",
     "text": [
      "Hello world!\n"
     ]
    }
   ],
   "source": [
    "# any line starting with a 'hash' symbol is a comment and\n",
    "# will be ignored by the Python interpreter \n",
    "print('Hello world!')"
   ]
  },
  {
   "cell_type": "markdown",
   "metadata": {},
   "source": [
    "### 2.1. Python as a calculator (arithmetic operators in Python)"
   ]
  },
  {
   "cell_type": "code",
   "execution_count": 11,
   "metadata": {},
   "outputs": [
    {
     "data": {
      "text/plain": [
       "19"
      ]
     },
     "execution_count": 11,
     "metadata": {},
     "output_type": "execute_result"
    }
   ],
   "source": [
    "4 + 5 * 3"
   ]
  },
  {
   "cell_type": "markdown",
   "metadata": {},
   "source": [
    "Python has the following arithmetic operators\n",
    "\n",
    "```python\n",
    "+   # addition  \n",
    "-   # subtraction\n",
    "*   # multiplication\n",
    "/   # division\n",
    "//  # floor division\n",
    "**  # exponentiation  \n",
    "%   # modulus or remainder  \n",
    "```"
   ]
  },
  {
   "cell_type": "markdown",
   "metadata": {},
   "source": [
    "### Variables, assignment and object types\n",
    "\n",
    "We can define a variable using ``=`` (i.e. assignment) as follows"
   ]
  },
  {
   "cell_type": "code",
   "execution_count": 12,
   "metadata": {},
   "outputs": [
    {
     "name": "stdout",
     "output_type": "stream",
     "text": [
      "7\n"
     ]
    }
   ],
   "source": [
    "x = 7\n",
    "print(x)"
   ]
  },
  {
   "cell_type": "markdown",
   "metadata": {},
   "source": [
    "The ``=`` assignment symbol associates the name to the left of the = symbol with the object indicated by the expression to the right of the = symbol. Variable names can contain upper and lowercase letters, digits (cannot start with a digit) and the character ``_``. In Python, there are a small number of reserved keywords such as ``if``, ``else``, ``print``, etc., that cannot be used as variable names. This reserved keywords  Python allows multiple variable assignment as follows"
   ]
  },
  {
   "cell_type": "code",
   "execution_count": 13,
   "metadata": {},
   "outputs": [
    {
     "name": "stdout",
     "output_type": "stream",
     "text": [
      "a = 2\n",
      "b = hello\n"
     ]
    }
   ],
   "source": [
    "a, b = 2, 'hello'\n",
    "print('a =', a) \n",
    "print('b =', b)"
   ]
  },
  {
   "cell_type": "markdown",
   "metadata": {},
   "source": [
    "Python has the following fundamental data types (or Python classes)\n",
    "\n",
    "```python\n",
    "# NUMBERS\n",
    "int      # integer numbers\n",
    "float    # floating-point numbers (i.e. a representation of a real number)\n",
    "complex  # complex numbers, 'real part' + 'imaginaty part'j (note the use of j instead of i)\n",
    "\n",
    "# OTHERS\n",
    "str      # strings or sequences of character data\n",
    "bool     # boolean type, either True or False\n",
    "None     # Null (value) or NoneType\n",
    "```\n",
    "\n",
    "We can ask what type of variable is using ``type()``"
   ]
  },
  {
   "cell_type": "code",
   "execution_count": 14,
   "metadata": {},
   "outputs": [
    {
     "data": {
      "text/plain": [
       "(int, str, float, complex, bool, NoneType)"
      ]
     },
     "execution_count": 14,
     "metadata": {},
     "output_type": "execute_result"
    }
   ],
   "source": [
    "c = 4.5\n",
    "d = 1 + 3j\n",
    "e = True\n",
    "f = None\n",
    "\n",
    "type(a), type(b), type(c), type (d), type (e), type(f)"
   ]
  },
  {
   "cell_type": "code",
   "execution_count": 16,
   "metadata": {},
   "outputs": [
    {
     "data": {
      "text/plain": [
       "(0.0053, float)"
      ]
     },
     "execution_count": 16,
     "metadata": {},
     "output_type": "execute_result"
    }
   ],
   "source": [
    "# float data type allows scientific notation (e.g. 3e5 = 3 x 10**5 or 300000)\n",
    "5.3e-3, type(5.3e-3)"
   ]
  },
  {
   "cell_type": "code",
   "execution_count": 2,
   "metadata": {},
   "outputs": [
    {
     "name": "stdout",
     "output_type": "stream",
     "text": [
      "a string, another string\n"
     ]
    }
   ],
   "source": [
    "# strings can be written either within single or double quotes\n",
    "foo, bar = 'a string,', \"another string\"\n",
    "print(foo, bar)"
   ]
  },
  {
   "cell_type": "code",
   "execution_count": 2,
   "metadata": {},
   "outputs": [
    {
     "data": {
      "text/plain": [
       "'\\nThis is a multiline\\ncomment.\\n'"
      ]
     },
     "execution_count": 2,
     "metadata": {},
     "output_type": "execute_result"
    }
   ],
   "source": [
    "# Python also allows multi-line strings using triple quotes (single or double) to start and end them\n",
    "'''\n",
    "This is a multi-line\n",
    "comment.\n",
    "'''"
   ]
  },
  {
   "cell_type": "markdown",
   "metadata": {},
   "source": [
    "> Gotchas\n",
    "> - '17' or \"17\" is a string not an integer\n",
    "> - int(17.8) is not 18 but 17, to round numbers never convert a float to integer but use the built-in Python method round() or the Numpy method around() (see later un Numpy)\n",
    "> - In Python **a variable is just a name** for a Python object, meaning that a single object can have one or more than one name associated to it.\n",
    "\n",
    "TODO"
   ]
  },
  {
   "cell_type": "markdown",
   "metadata": {},
   "source": [
    "### 2.2. Comparison operators (not exhaustive)\n",
    "\n",
    "```python\n",
    "+=  # a += 5 equivalent to a = a + 5\n",
    "==  # equality or equal to  \n",
    "!=  # inequality or not equal to \n",
    "<   # less than\n",
    ">   # larger than\n",
    "<=  # less than or equal to  \n",
    ">=  # greater than or equal to  \n",
    "```\n",
    "\n",
    "logical operators\n",
    "```python\n",
    "and  # returns true if both statements are true  \n",
    "or   # returns true if one of the statements are true \n",
    "not  # true if statement is false\n",
    "is   # returns true is both variables are the same object\n",
    "is not  # returns true is both variables are not the same object \n",
    "in   # returns true is a value is present in the object  \n",
    "not in  # returns true is a value is not present in the object  \n",
    "```\n",
    "\n",
    "bitwise operators (the ones to use with arrays!)\n",
    "```python\n",
    "&  # bitwise AND  \n",
    "|  # bitwise OR \n",
    "~  # bitwise NOT\n",
    "^  # bitwise XOR\n",
    "```"
   ]
  },
  {
   "cell_type": "markdown",
   "metadata": {},
   "source": [
    "### Calling functions"
   ]
  },
  {
   "cell_type": "markdown",
   "metadata": {},
   "source": [
    "### Conditionals: if, elif and else statements"
   ]
  },
  {
   "cell_type": "markdown",
   "metadata": {},
   "source": [
    "### String formatting (for prints)"
   ]
  },
  {
   "cell_type": "markdown",
   "metadata": {},
   "source": []
  },
  {
   "cell_type": "markdown",
   "metadata": {},
   "source": [
    "## Python functions"
   ]
  },
  {
   "cell_type": "markdown",
   "metadata": {},
   "source": [
    "## Matplotlib: the Python (default) plotting library\n",
    "\n",
    "> **What it is?** Matplotlib is the most well-established Python data visualization tool. It allows creating static, animated, and interactive visualizations. See https://matplotlib.org/   \n",
    "> **What it is used for?** Analize, explore, and show relationships between data.\n"
   ]
  },
  {
   "cell_type": "code",
   "execution_count": 3,
   "metadata": {},
   "outputs": [],
   "source": [
    "# how to import the library\n",
    "import matplotlib.pyplot as plt"
   ]
  },
  {
   "cell_type": "markdown",
   "metadata": {},
   "source": [
    "## Numpy arrays\n",
    "\n",
    "> **What it is?** A core package for scientific computing with Python. It enables the creation of numerical arrays and basic operations with arrays. See https://numpy.org/  \n",
    "> **What it is used for?** Numpy arrays are the standard representation for numerical data in Python. It enables efficient implementation of numerical computations in a high-level language and thus it is the way to go when doing numerical computation and analysing scientific data in a Python environment. Array programming provides a powerful, compact and expressive syntax for accessing, manipulating and operating on data in vectors, matrices and higher-dimensional arrays (Harris et al. 2020). Many other data-science libraries for Python are built on NumPy, including Pandas and SciPy.\n"
   ]
  },
  {
   "cell_type": "code",
   "execution_count": 5,
   "metadata": {},
   "outputs": [],
   "source": [
    "# how to import the library\n",
    "import numpy as np"
   ]
  },
  {
   "cell_type": "markdown",
   "metadata": {},
   "source": [
    "## Pandas Dataframes\n",
    "\n",
    "> **What it is?** A library for tabular data structures, data analysis, and data modeling tools, including built-in plotting using Matplotlib. See https://pandas.pydata.org/   \n",
    "> **What it is used for?** Data manipulation of tabular-like dataset. Pandas includes efficient methods for reading and writing a wide variety of data, including CSV files, Excel, etc.\n"
   ]
  },
  {
   "cell_type": "code",
   "execution_count": 4,
   "metadata": {},
   "outputs": [],
   "source": [
    "# how to import the library\n",
    "import pandas as pd"
   ]
  },
  {
   "cell_type": "code",
   "execution_count": null,
   "metadata": {},
   "outputs": [],
   "source": []
  }
 ],
 "metadata": {
  "kernelspec": {
   "display_name": "Python 3",
   "language": "python",
   "name": "python3"
  },
  "language_info": {
   "codemirror_mode": {
    "name": "ipython",
    "version": 3
   },
   "file_extension": ".py",
   "mimetype": "text/x-python",
   "name": "python",
   "nbconvert_exporter": "python",
   "pygments_lexer": "ipython3",
   "version": "3.7.9"
  }
 },
 "nbformat": 4,
 "nbformat_minor": 4
}
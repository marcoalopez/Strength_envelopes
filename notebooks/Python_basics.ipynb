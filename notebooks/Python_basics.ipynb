{
 "cells": [
  {
   "cell_type": "markdown",
   "metadata": {},
   "source": [
    "# Python basics for data science\n",
    "\n",
    "Copyright 2021 Marco A. Lopez-Sanchez.  \n",
    "Content under [Creative Commons Attribution license CC-BY 4.0](https://creativecommons.org/licenses/by/4.0/), code under [Mozilla Public License 2.0](https://www.mozilla.org/en-US/MPL/2.0/).\n",
    "\n",
    "> **Goal**: Learn the basics of the Python programming language and some of its core scientific libraries to interact with the notebooks. Note that **this is not** a general-purpose tutorial on scientific Python (although you will learn some concepts about scientific Python) but a tutorial with the basics to understand the codes in the notebooks. Likewise, this tutorial does not cover how to install Python on your system or how to install specific scientific packages.\n",
    "\n",
    "\n",
    "## What is Python?\n",
    "\n",
    "[Python](https://www.python.org/) is an _interpreted_, _high-level_, _general-purpose_, _multi-paradigm_ programming language. In a nutshell:\n",
    "- _Interpreted_ means that a sequence of instructions written by the programmer (\"the source code\") is directly read and executed by an interpreter without the need for compilation. This allows for interactivity that is advantageous for learning, productivity and, ultimately, for scientific analysis.\n",
    "- _High-level_ (of abstraction) means that the syntax of the language is designed to be easily understood by humans. Indeed, Python's core design philosophy emphasizes code readability over other aspects (human-readable code).\n",
    "- _General-purpose_ means that the language is not specifically aimed at scientific or numerical computing as for example Fortran, R, Matlab or Julia, even though it is very capable in this arena. The Python programming language is used indistinctly for Web or Software Development (e.g. Youtube, Reddit, Dropbox...), System Administration or games to name a few examples. \n",
    "- _Multi-paradigm_ means that the language supports different types of programming (declarative, functional, object-oriented, etc.)\n",
    "\n",
    "Some of the Python highlights are:\n",
    "- Completely free and open-source programming language.\n",
    "- Easy to learn (very gentle learning curve).\n",
    "- Widely adopted and with a good balance between cutting-edge and mature scientific libraries (i.e. core scientific libraries are based in Fortran and C routines tested in production for decades and less prone to errors)\n",
    "- Well-documented core scientific libraries,\n",
    "- The general-purpose nature makes Python a very versatile programming language beyond its use as a scientific tool (when someone writes code they always end up doing a few things that are not strictly data analysis).\n",
    "\n",
    "## How to read this tutorial\n",
    "\n",
    "Even if you are not familiar with Jupyter notebooks or coding this tutorial is designed to be easy to understand. If you see a \"cell\" (a grey box with a chunk of code preceded by ``In`` plus a number between brackets) you are looking at the **input** or the Python code you enter in the Jupyter notebook. Everything that is not enclosed in a grey box is either \"markdown text\" explaining things (e.g. what you are reading right now) or the **output** of the code that results from running the Python code enclosed in the cell immediately above (sometimes preceded by \"Out\")."
   ]
  },
  {
   "cell_type": "markdown",
   "metadata": {},
   "source": [
    "## 1. Basic elements of Python"
   ]
  },
  {
   "cell_type": "code",
   "execution_count": 1,
   "metadata": {},
   "outputs": [
    {
     "output_type": "stream",
     "name": "stdout",
     "text": [
      "Hi, I'm Python, nice to meet you!\n"
     ]
    }
   ],
   "source": [
    "# any line starting with a 'hash' symbol is a comment and\n",
    "# will be ignored by the Python interpreter \n",
    "print(\"Hi, I'm Python, nice to meet you!\")"
   ]
  },
  {
   "cell_type": "markdown",
   "metadata": {},
   "source": [
    "### 1.1 Python as a calculator (arithmetic operators in Python)"
   ]
  },
  {
   "cell_type": "code",
   "execution_count": 2,
   "metadata": {},
   "outputs": [
    {
     "output_type": "execute_result",
     "data": {
      "text/plain": [
       "19"
      ]
     },
     "metadata": {},
     "execution_count": 2
    }
   ],
   "source": [
    "4 + 5 * 3"
   ]
  },
  {
   "cell_type": "code",
   "execution_count": 3,
   "metadata": {},
   "outputs": [
    {
     "output_type": "execute_result",
     "data": {
      "text/plain": [
       "27"
      ]
     },
     "metadata": {},
     "execution_count": 3
    }
   ],
   "source": [
    "(4 + 5) * 3"
   ]
  },
  {
   "cell_type": "code",
   "execution_count": 4,
   "metadata": {},
   "outputs": [
    {
     "output_type": "execute_result",
     "data": {
      "text/plain": [
       "27"
      ]
     },
     "metadata": {},
     "execution_count": 4
    }
   ],
   "source": [
    "3**3"
   ]
  },
  {
   "cell_type": "markdown",
   "metadata": {},
   "source": [
    "Python has the following arithmetic operators\n",
    "\n",
    "```python\n",
    "+   # addition  \n",
    "-   # subtraction\n",
    "*   # multiplication\n",
    "/   # division\n",
    "//  # floor (integer) division\n",
    "**  # exponentiation  \n",
    "%   # modulus/remainder  \n",
    "```\n",
    "\n",
    "The order of operations (or operator precedence) is the same as in mathematics."
   ]
  },
  {
   "cell_type": "markdown",
   "metadata": {},
   "source": [
    "### 1.2 Variables, assignment, and fundamental data (object) types\n",
    "\n",
    "We can define a Python variable using ``=`` (i.e. assignment) as follows"
   ]
  },
  {
   "cell_type": "code",
   "execution_count": 5,
   "metadata": {},
   "outputs": [],
   "source": [
    "# assign 7 to x\n",
    "x = 7"
   ]
  },
  {
   "cell_type": "code",
   "execution_count": 6,
   "metadata": {},
   "outputs": [
    {
     "output_type": "execute_result",
     "data": {
      "text/plain": [
       "14"
      ]
     },
     "metadata": {},
     "execution_count": 6
    }
   ],
   "source": [
    "x * 2"
   ]
  },
  {
   "cell_type": "markdown",
   "metadata": {},
   "source": [
    "Variable names in Python can contain upper and lowercase letters, digits (but cannot start with a digit) and the character underscore ``_``. There are a few number of reserved Python keywords such as ``if``, ``else``, ``print``, etc., that cannot be used as variable names. This keywords will be highlighted as soon as you write them.\n",
    "\n",
    "Python allows multiple variable assignment as follows"
   ]
  },
  {
   "cell_type": "code",
   "execution_count": 7,
   "metadata": {},
   "outputs": [
    {
     "output_type": "stream",
     "name": "stdout",
     "text": [
      "a = 2\nb = Hi!\n"
     ]
    }
   ],
   "source": [
    "a, b = 2, 'Hi!'\n",
    "print('a =', a) \n",
    "print('b =', b)"
   ]
  },
  {
   "cell_type": "markdown",
   "metadata": {},
   "source": [
    "Python has the following fundamental data types\n",
    "\n",
    "```python\n",
    "# NUMBERS\n",
    "int      # integer numbers\n",
    "float    # floating-point numbers (i.e. a representation of a real number)\n",
    "complex  # complex numbers, 'real part' + 'imaginaty part'j (note the use of j instead of i)\n",
    "\n",
    "# OTHERS\n",
    "str      # strings or sequences of character data\n",
    "bool     # boolean type, either True or False. Evaluate to 1 and 0 respectively.\n",
    "None     # Null or lack of value, known as NoneType\n",
    "```\n",
    "\n",
    "We can ask what type using ``type()``"
   ]
  },
  {
   "cell_type": "code",
   "execution_count": 8,
   "metadata": {},
   "outputs": [
    {
     "output_type": "execute_result",
     "data": {
      "text/plain": [
       "(str, int, float, complex, bool, NoneType)"
      ]
     },
     "metadata": {},
     "execution_count": 8
    }
   ],
   "source": [
    "type('hi'), type(2), type(2.0), type(1 + 3j), type(True), type(None)"
   ]
  },
  {
   "cell_type": "code",
   "execution_count": 9,
   "metadata": {},
   "outputs": [
    {
     "output_type": "execute_result",
     "data": {
      "text/plain": [
       "(0.0053, float)"
      ]
     },
     "metadata": {},
     "execution_count": 9
    }
   ],
   "source": [
    "# float data type allows scientific notation (e.g. 3e5 = 3 x 10**5 or 300000)\n",
    "5.3e-3, type(5.3e-3)"
   ]
  },
  {
   "cell_type": "code",
   "execution_count": 10,
   "metadata": {},
   "outputs": [
    {
     "output_type": "stream",
     "name": "stdout",
     "text": [
      "a string, another string\n"
     ]
    }
   ],
   "source": [
    "# strings can be written either within single or double quotes\n",
    "foo, bar = 'a string,', \"another string\"\n",
    "print(foo, bar)"
   ]
  },
  {
   "cell_type": "code",
   "execution_count": 11,
   "metadata": {},
   "outputs": [
    {
     "output_type": "execute_result",
     "data": {
      "text/plain": [
       "'\\nThis is a multi-line comment. This type of comment\\nis normally used to document Python functions.\\n'"
      ]
     },
     "metadata": {},
     "execution_count": 11
    }
   ],
   "source": [
    "# Python also allows multi-line strings using triple quotes (single or double) to start and end them\n",
    "'''\n",
    "This is a multi-line comment. This type of comment\n",
    "is normally used to document Python functions.\n",
    "'''"
   ]
  },
  {
   "cell_type": "markdown",
   "metadata": {},
   "source": [
    "Strings allow concatenation using the + symbol."
   ]
  },
  {
   "cell_type": "code",
   "execution_count": 12,
   "metadata": {},
   "outputs": [
    {
     "output_type": "execute_result",
     "data": {
      "text/plain": [
       "'concatenation'"
      ]
     },
     "metadata": {},
     "execution_count": 12
    }
   ],
   "source": [
    "'concat' + 'enation'"
   ]
  },
  {
   "cell_type": "markdown",
   "metadata": {},
   "source": [
    "This is useful for when dealing with file paths, for example:"
   ]
  },
  {
   "cell_type": "code",
   "execution_count": 13,
   "metadata": {},
   "outputs": [
    {
     "output_type": "execute_result",
     "data": {
      "text/plain": [
       "'/my_folder/subfolder/my_data.csv'"
      ]
     },
     "metadata": {},
     "execution_count": 13
    }
   ],
   "source": [
    "path = '/my_folder/subfolder/'\n",
    "file = 'my_data.csv'\n",
    "path + file"
   ]
  },
  {
   "cell_type": "markdown",
   "metadata": {},
   "source": [
    "### 1.3 Comparison and logical operators (not exhaustive)\n",
    "\n",
    "**Comparison operators**\n",
    "```python\n",
    "==  # equality or equal to  \n",
    "!=  # inequality or not equal to \n",
    "<   # less than\n",
    ">   # larger than\n",
    "<=  # less than or equal to  \n",
    ">=  # greater than or equal to  \n",
    "```\n",
    "\n",
    "**Logical operators**\n",
    "```python\n",
    "and     # returns true if both statements are true  \n",
    "or      # returns true if one of the statements are true \n",
    "not     # true if statement is false\n",
    "is      # returns true is both variables are the same object\n",
    "is not  # returns true is both variables are not the same object \n",
    "in      # returns true is a value is present in the object  \n",
    "not in  # returns true is a value is not present in the object  \n",
    "```\n",
    "some examples below"
   ]
  },
  {
   "cell_type": "code",
   "execution_count": 14,
   "metadata": {},
   "outputs": [
    {
     "output_type": "execute_result",
     "data": {
      "text/plain": [
       "False"
      ]
     },
     "metadata": {},
     "execution_count": 14
    }
   ],
   "source": [
    "5.0 == 5.1"
   ]
  },
  {
   "cell_type": "code",
   "execution_count": 15,
   "metadata": {},
   "outputs": [
    {
     "output_type": "execute_result",
     "data": {
      "text/plain": [
       "True"
      ]
     },
     "metadata": {},
     "execution_count": 15
    }
   ],
   "source": [
    "5.0 != 5.1"
   ]
  },
  {
   "cell_type": "code",
   "execution_count": 16,
   "metadata": {},
   "outputs": [
    {
     "output_type": "execute_result",
     "data": {
      "text/plain": [
       "(True, False)"
      ]
     },
     "metadata": {},
     "execution_count": 16
    }
   ],
   "source": [
    "5.0 < 5.1, 5.0 >= 5.1"
   ]
  },
  {
   "cell_type": "code",
   "execution_count": 17,
   "metadata": {},
   "outputs": [
    {
     "output_type": "execute_result",
     "data": {
      "text/plain": [
       "False"
      ]
     },
     "metadata": {},
     "execution_count": 17
    }
   ],
   "source": [
    "x = 5\n",
    "x > 4 and x < 5"
   ]
  },
  {
   "cell_type": "code",
   "execution_count": 18,
   "metadata": {},
   "outputs": [
    {
     "output_type": "execute_result",
     "data": {
      "text/plain": [
       "True"
      ]
     },
     "metadata": {},
     "execution_count": 18
    }
   ],
   "source": [
    "(x > 4) is True"
   ]
  },
  {
   "cell_type": "markdown",
   "metadata": {},
   "source": [
    "### 1.4 Few gotchas\n",
    "\n",
    "A number within single or double quotes is a string not an integer"
   ]
  },
  {
   "cell_type": "code",
   "execution_count": 19,
   "metadata": {},
   "outputs": [
    {
     "output_type": "execute_result",
     "data": {
      "text/plain": [
       "False"
      ]
     },
     "metadata": {},
     "execution_count": 19
    }
   ],
   "source": [
    "'17' == 17"
   ]
  },
  {
   "cell_type": "markdown",
   "metadata": {},
   "source": [
    "If you want or need to convert a float into an integer you should use the built-in Python method ``round()`` because if you convert it directly into an integer, the value will be truncated not rounded."
   ]
  },
  {
   "cell_type": "code",
   "execution_count": 20,
   "metadata": {},
   "outputs": [
    {
     "output_type": "execute_result",
     "data": {
      "text/plain": [
       "(17, 18)"
      ]
     },
     "metadata": {},
     "execution_count": 20
    }
   ],
   "source": [
    "int(17.8), int(round(17.8, 0))  # round(number, number of decimals to use)"
   ]
  },
  {
   "cell_type": "code",
   "execution_count": 21,
   "metadata": {},
   "outputs": [
    {
     "output_type": "execute_result",
     "data": {
      "text/plain": [
       "True"
      ]
     },
     "metadata": {},
     "execution_count": 21
    }
   ],
   "source": [
    "# Python 3.6+ allows you to use underscores in numeric literals for improved readability\n",
    "1_000_000 == 1000000"
   ]
  },
  {
   "cell_type": "markdown",
   "metadata": {},
   "source": [
    "### 1.5 Python modules and imports\n",
    "\n",
    "The Python language is built around modules and packages. So it is important to know how to interact with them. Basically, one imports modules using the keyword ``import`` followed by the name of the module to import. Some examples below."
   ]
  },
  {
   "cell_type": "code",
   "execution_count": 22,
   "metadata": {},
   "outputs": [
    {
     "output_type": "execute_result",
     "data": {
      "text/plain": [
       "1.3010299956639813"
      ]
     },
     "metadata": {},
     "execution_count": 22
    }
   ],
   "source": [
    "# import the module math (mathematical functions: https://docs.python.org/3/library/math.html)\n",
    "import math\n",
    "\n",
    "# the dot notation is used to access the methods of the module\n",
    "# i.e. name of the module (dot) name of the method\n",
    "math.log10(20)"
   ]
  },
  {
   "cell_type": "markdown",
   "metadata": {},
   "source": [
    "Sometimes you want to import a specific method of a module and not all methods. In that case, we proceed:"
   ]
  },
  {
   "cell_type": "code",
   "execution_count": 23,
   "metadata": {},
   "outputs": [
    {
     "output_type": "stream",
     "name": "stdout",
     "text": [
      "Value of pi = 3.141592653589793\ne raised to one is 2.718\nThe sine of 45 degrees is 0.7071067811865476\n"
     ]
    }
   ],
   "source": [
    "# import pi, exponential, sine and the degrees to radian methods\n",
    "from math import pi, exp, sin, radians\n",
    "\n",
    "print('Value of pi =', pi)\n",
    "print('e raised to one is', round(exp(1), 3))  # note the use of the method round\n",
    "print('The sine of 45 degrees is', sin(radians(45)))"
   ]
  },
  {
   "cell_type": "markdown",
   "metadata": {},
   "source": [
    "Note that in this case, we did not use the dot notation to access the methods as they were imported directly into the notebook.\n",
    "\n",
    "> 👉 It is possible to import all the methods of a module using the following expression ``from module import *``, for example ``from math import *``. However, this is considered bad practice in Python because you may end up importing two modules that contain methods with similar names but different functionalities without realising it and not knowing which module you are using when you apply a method. By using dot notation you can always tell which method of which module is being used.\n",
    "\n",
    "Typically, module names are shortened to reduce typing, so you will often see imports of the following type"
   ]
  },
  {
   "cell_type": "code",
   "execution_count": 24,
   "metadata": {},
   "outputs": [
    {
     "output_type": "execute_result",
     "data": {
      "text/plain": [
       "3.141592653589793"
      ]
     },
     "metadata": {},
     "execution_count": 24
    }
   ],
   "source": [
    "# import the module numpy (meaning numerical python, see later)\n",
    "import numpy as np\n",
    "\n",
    "np.pi"
   ]
  },
  {
   "cell_type": "markdown",
   "metadata": {},
   "source": [
    "> 👉 Hint: when you type the name of an imported module followed by a dot and press the TAB key, a menu containing the module's method list will pop up. Also in Jupyter Lab a description of the method will automatically appear in the \"Show Contextual Help\" as soon as you write the method."
   ]
  },
  {
   "cell_type": "markdown",
   "metadata": {},
   "source": [
    "## 2. Branching programs: the ``if``, ``elif`` and ``else`` statements\n",
    "\n",
    "Branching programs are code chunks where an expression evaluates to either ``True`` or ``False`` (i.e. a **conditional** or _Boolean expression_) and when ``True`` the indented block of code will be executed. In Python a conditional statement has the following basic form:\n",
    "\n",
    "```python\n",
    "if Boolean expression:\n",
    "    block of code\n",
    "```\n",
    "Branching programs can combine the Python keywords ``elif``, meaning \"_else if_\", or ``else`` to execute other code blocks when the test evaluates to ``False``. For example:\n",
    "\n",
    "```python\n",
    "if Boolean expression:\n",
    "    block of code\n",
    "elif Boolean expression:\n",
    "    block of code\n",
    "else:\n",
    "    block of code\n",
    "```\n",
    "\n",
    "It is important to note that the conditional is followed by a colon and immediately below it by an indented code block. This is a core concept in the Python programming language as **indentation is semantically meaningful** (i.e. the visual structure of a program is a representation of its semantic structure). **Indentation** in Python is represented by 4 spaces. Most Python editors, including the notebook, will auto-indent the code once you write a colon and press the Enter key.\n",
    "\n",
    "Now let's show some examples of branching programs"
   ]
  },
  {
   "cell_type": "code",
   "execution_count": 25,
   "metadata": {},
   "outputs": [],
   "source": [
    "# set some variables\n",
    "x, y, z = 8, 2, 4"
   ]
  },
  {
   "cell_type": "code",
   "execution_count": 26,
   "metadata": {},
   "outputs": [
    {
     "output_type": "stream",
     "name": "stdout",
     "text": [
      "x is even\n"
     ]
    }
   ],
   "source": [
    "# simple branching program evaluating for even or odds numbers\n",
    "if x % 2 == 0:\n",
    "    print('x is even')\n",
    "else:\n",
    "    print('x is odd')"
   ]
  },
  {
   "cell_type": "code",
   "execution_count": 27,
   "metadata": {},
   "outputs": [
    {
     "output_type": "stream",
     "name": "stdout",
     "text": [
      "x is the largest\n"
     ]
    }
   ],
   "source": [
    "# example of conditional containing a nested conditional\n",
    "if x > y:\n",
    "    if x > z:\n",
    "        print('x is the largest')\n",
    "    else:\n",
    "        print('z is the largest')\n",
    "elif y > z:\n",
    "    print('y is the largest')\n",
    "else:\n",
    "    print('z is the largest')"
   ]
  },
  {
   "cell_type": "code",
   "execution_count": 28,
   "metadata": {},
   "outputs": [
    {
     "output_type": "stream",
     "name": "stdout",
     "text": [
      "x is the largest\n"
     ]
    }
   ],
   "source": [
    "# same as above but a concise approach combining conditionals and logical operators\n",
    "if x > y and x > z:\n",
    "    print('x is the largest')\n",
    "elif y > z:\n",
    "    print('y is the largest')\n",
    "else:\n",
    "    print('z is the largest')"
   ]
  },
  {
   "cell_type": "markdown",
   "metadata": {},
   "source": [
    "## 3. String formatting for prints\n",
    "\n",
    "Normally, within a ``print`` funtion you can combine strings and any other data type separated by commas or using string concatenation. For example"
   ]
  },
  {
   "cell_type": "code",
   "execution_count": 29,
   "metadata": {},
   "outputs": [
    {
     "output_type": "stream",
     "name": "stdout",
     "text": [
      "my result = 15.33 MPa\n"
     ]
    }
   ],
   "source": [
    "result = 15.33\n",
    "print('my result =', result, 'MPa')"
   ]
  },
  {
   "cell_type": "markdown",
   "metadata": {},
   "source": [
    "There is, however, a few string formatting methods that allows you to simplify your prints in some cases.\n",
    "\n",
    "### 3.1 f-strings\n",
    "\n",
    "This is the preferred method for string formatting using prints. Note the \"_f_\" before declaring the string. It requires Python 3.6+"
   ]
  },
  {
   "cell_type": "code",
   "execution_count": 30,
   "metadata": {},
   "outputs": [
    {
     "output_type": "stream",
     "name": "stdout",
     "text": [
      "my result = 15.33 MPa\n"
     ]
    }
   ],
   "source": [
    "print(f'my result = {result} MPa')"
   ]
  },
  {
   "cell_type": "code",
   "execution_count": 31,
   "metadata": {},
   "outputs": [
    {
     "output_type": "stream",
     "name": "stdout",
     "text": [
      "my result = 15.3 MPa\nmy result = 15 MPa\n"
     ]
    }
   ],
   "source": [
    "print(f'my result = {result:.1f} MPa')  # use :.xf to round numbers\n",
    "print(f'my result = {result:.0f} MPa')"
   ]
  },
  {
   "cell_type": "markdown",
   "metadata": {},
   "source": [
    "### 3.2 The ``.format()`` method\n",
    "\n",
    "Sometimes you will see a string formatting like this, the default print formatting method before the release of _f-strings_. This method can however be useful in some cases where for clarity it is better to separate the string from the variables."
   ]
  },
  {
   "cell_type": "code",
   "execution_count": 32,
   "metadata": {},
   "outputs": [
    {
     "output_type": "stream",
     "name": "stdout",
     "text": [
      "my result = 15.33 MPa\n"
     ]
    }
   ],
   "source": [
    "print('my result = {} MPa' .format(result))  # use :.xf to round numbers"
   ]
  },
  {
   "cell_type": "code",
   "execution_count": 33,
   "metadata": {},
   "outputs": [
    {
     "output_type": "stream",
     "name": "stdout",
     "text": [
      "my result = 15.33 ± 0.5 MPa\nmy result = 15.33 ± 0.5 MPa\n"
     ]
    }
   ],
   "source": [
    "err = 0.5\n",
    "print('my result = {} ± {} MPa' .format(result, err))        # positional example\n",
    "print('my result = {a} ± {b} MPa' .format(a=result, b=err))  # keyword example"
   ]
  },
  {
   "cell_type": "markdown",
   "metadata": {},
   "source": [
    "> there is still one more formatting string method similar to the .format but using the % character. The % method is generally discouraged in Python, for more details on string formatting see here: https://realpython.com/python-string-formatting/"
   ]
  },
  {
   "cell_type": "markdown",
   "metadata": {},
   "source": [
    "## 4. Structured types, indexing, slicing, and mutability in Python\n",
    "\n",
    "Here, I will refer to three basic structured types in Python called lists, tuples and dictionaries (there are others). Although in data science are not widely used (see later Numpy arrays and Pandas dataframes) they are essential to know the and can come in handy for specific cases.\n",
    "\n",
    "### 4.1 Lists\n",
    "\n",
    "Python **lists** are ordered sequences of values of any type where each value is identified by an index. The different elements need not be of the same type. A key concept is that elements in a **list are mutable** (i.e. their values or size can be modified after creation). A list is constructed using square brackets."
   ]
  },
  {
   "cell_type": "code",
   "execution_count": 34,
   "metadata": {},
   "outputs": [
    {
     "output_type": "execute_result",
     "data": {
      "text/plain": [
       "list"
      ]
     },
     "metadata": {},
     "execution_count": 34
    }
   ],
   "source": [
    "seq = [1, 2, 3, 4]\n",
    "type(seq)"
   ]
  },
  {
   "cell_type": "code",
   "execution_count": 35,
   "metadata": {},
   "outputs": [
    {
     "output_type": "execute_result",
     "data": {
      "text/plain": [
       "[1, 2, 3, 4, 17]"
      ]
     },
     "metadata": {},
     "execution_count": 35
    }
   ],
   "source": [
    "# mutability of Python list (I use the built-in method append)\n",
    "seq.append(17)\n",
    "seq"
   ]
  },
  {
   "cell_type": "code",
   "execution_count": 36,
   "metadata": {},
   "outputs": [
    {
     "output_type": "execute_result",
     "data": {
      "text/plain": [
       "5"
      ]
     },
     "metadata": {},
     "execution_count": 36
    }
   ],
   "source": [
    "# get the length (or size) of the list\n",
    "len(seq)"
   ]
  },
  {
   "cell_type": "markdown",
   "metadata": {},
   "source": [
    "### 4.2 Tuples\n",
    "\n",
    "Similar to lists, **tuples** are ordered sequences of elements of any type where each value is identified by an index. A tuple is constructed by enclosed a comma-separated list of elements within parentheses. The main difference with Python list is that **elements in tuples are inmutable**. Due to this, tuples are not widely used in data science. In any case, they can come in handy for specific cases when we want to ensure that a sequence of values remains the same."
   ]
  },
  {
   "cell_type": "code",
   "execution_count": 37,
   "metadata": {},
   "outputs": [
    {
     "output_type": "execute_result",
     "data": {
      "text/plain": [
       "tuple"
      ]
     },
     "metadata": {},
     "execution_count": 37
    }
   ],
   "source": [
    "foo = (1, 2, 3, 4)\n",
    "type(foo)"
   ]
  },
  {
   "cell_type": "markdown",
   "metadata": {},
   "source": [
    "\n",
    "\n"
   ]
  },
  {
   "cell_type": "markdown",
   "metadata": {},
   "source": [
    "### 4.3 Indexing and slicing\n",
    "\n",
    "**Indexing** can be used to extract individual elements from a list or tuple declaring the index in square brackets after the sequence name, e.g. ``seq[3]``. As in most general-purpose programming languages and in oposition to some programming languages specifically designed for mathematical computations (e.g. Fortran, Matlab, R or Julia), **indexation in Python is zero-based**, meaning that for accesing the first element of a sequence you must use the index zero not one. Look at the scheme below\n",
    "\n",
    "```\n",
    " +---+---+---+---+----+\n",
    " | 1 | 2 | 4 | 9 | 16 |   Elements of the sequence\n",
    " +---+---+---+---+----+\n",
    " 0   1   2   3   4        Index position\n",
    "-5  -4  -3  -2  -1        Negative index position\n",
    "```\n",
    "\n",
    "> One way to approach indexing is to visualize the indexes pointing between the elements in the sequence with the left edge of the sequence starting at zero and think that the element you extract when calling an index is the one on the right side of the index. See also later \"slicing\"."
   ]
  },
  {
   "cell_type": "code",
   "execution_count": 38,
   "metadata": {},
   "outputs": [
    {
     "output_type": "execute_result",
     "data": {
      "text/plain": [
       "1"
      ]
     },
     "metadata": {},
     "execution_count": 38
    }
   ],
   "source": [
    "seq = [1, 2, 4, 9, 16]  # a list with 5 elements\n",
    "\n",
    "# get the first element of the sequence\n",
    "seq[0]"
   ]
  },
  {
   "cell_type": "code",
   "execution_count": 39,
   "metadata": {},
   "outputs": [
    {
     "output_type": "execute_result",
     "data": {
      "text/plain": [
       "16"
      ]
     },
     "metadata": {},
     "execution_count": 39
    }
   ],
   "source": [
    "# get the fifth (last element) of the sequence\n",
    "seq[4]"
   ]
  },
  {
   "cell_type": "code",
   "execution_count": 40,
   "metadata": {},
   "outputs": [
    {
     "output_type": "error",
     "ename": "IndexError",
     "evalue": "list index out of range",
     "traceback": [
      "\u001b[1;31m---------------------------------------------------------------------------\u001b[0m",
      "\u001b[1;31mIndexError\u001b[0m                                Traceback (most recent call last)",
      "\u001b[1;32m<ipython-input-40-0e796d004862>\u001b[0m in \u001b[0;36m<module>\u001b[1;34m\u001b[0m\n\u001b[0;32m      1\u001b[0m \u001b[1;31m# use an index out of range (this will throw an error)\u001b[0m\u001b[1;33m\u001b[0m\u001b[1;33m\u001b[0m\u001b[1;33m\u001b[0m\u001b[0m\n\u001b[1;32m----> 2\u001b[1;33m \u001b[0mseq\u001b[0m\u001b[1;33m[\u001b[0m\u001b[1;36m5\u001b[0m\u001b[1;33m]\u001b[0m\u001b[1;33m\u001b[0m\u001b[1;33m\u001b[0m\u001b[0m\n\u001b[0m",
      "\u001b[1;31mIndexError\u001b[0m: list index out of range"
     ]
    }
   ],
   "source": [
    "# use an index out of range (this will throw an error)\n",
    "seq[5]"
   ]
  },
  {
   "cell_type": "code",
   "execution_count": 41,
   "metadata": {},
   "outputs": [
    {
     "data": {
      "text/plain": [
       "16"
      ]
     },
     "execution_count": 41,
     "metadata": {},
     "output_type": "execute_result"
    }
   ],
   "source": [
    "# get the last element using negative indexing\n",
    "# this avoids causing an index error or writing\n",
    "# the longer equivalent version: [len(seq) - 1]\n",
    "seq[-1]"
   ]
  },
  {
   "cell_type": "code",
   "execution_count": 42,
   "metadata": {},
   "outputs": [
    {
     "data": {
      "text/plain": [
       "[10, 2, 4, 9, 16]"
      ]
     },
     "execution_count": 42,
     "metadata": {},
     "output_type": "execute_result"
    }
   ],
   "source": [
    "# list mutability using index (changing a value)\n",
    "seq[0] = 10\n",
    "seq"
   ]
  },
  {
   "cell_type": "markdown",
   "metadata": {},
   "source": [
    "**Slicing** refers to extract elements of a sequence of arbitrary length. The expression ``seq[start:end]`` denotes that we want to extract the elements that start at index 0 and ends at index len(seq), this last remark is important. The best approach to visualize slicing is to think that the indices are pointing between the elements of the sequence with the left edge of the sequence starting at zero as in the example below\n",
    "\n",
    "```\n",
    "                +---+---+---+---+----+\n",
    "                | 1 | 2 | 4 | 9 | 16 |\n",
    "                +---+---+---+---+----+\n",
    "Slice position: 0   1   2   3   4    5\n",
    "[0:3]           +-----------+\n",
    "[:3]            +-----------+\n",
    "[2:4]                   +-------+\n",
    "[2:]                    +-------------+\n",
    "[2:5]                   +-------------+\n",
    "[:]             +---------------------+\n",
    "[0:5]           +---------------------+\n",
    "```"
   ]
  },
  {
   "cell_type": "code",
   "execution_count": 43,
   "metadata": {},
   "outputs": [
    {
     "data": {
      "text/plain": [
       "[1, 2, 4]"
      ]
     },
     "execution_count": 43,
     "metadata": {},
     "output_type": "execute_result"
    }
   ],
   "source": [
    "seq = [1, 2, 4, 9, 16]\n",
    "seq[0:3]"
   ]
  },
  {
   "cell_type": "code",
   "execution_count": 44,
   "metadata": {},
   "outputs": [
    {
     "data": {
      "text/plain": [
       "[4, 9]"
      ]
     },
     "execution_count": 44,
     "metadata": {},
     "output_type": "execute_result"
    }
   ],
   "source": [
    "seq[2:4]"
   ]
  },
  {
   "cell_type": "code",
   "execution_count": 45,
   "metadata": {},
   "outputs": [
    {
     "data": {
      "text/plain": [
       "[1, 2, 4, 9, 16]"
      ]
     },
     "execution_count": 45,
     "metadata": {},
     "output_type": "execute_result"
    }
   ],
   "source": [
    "seq[:]"
   ]
  },
  {
   "cell_type": "markdown",
   "metadata": {},
   "source": [
    "**Slicing** also allows you to manage one more parameter called step ``[start:stop:step]`` that controls the amount by which the index increases (defaults to 1 when not specified)."
   ]
  },
  {
   "cell_type": "code",
   "execution_count": 46,
   "metadata": {},
   "outputs": [
    {
     "data": {
      "text/plain": [
       "[1, 4, 16]"
      ]
     },
     "execution_count": 46,
     "metadata": {},
     "output_type": "execute_result"
    }
   ],
   "source": [
    "seq[0:5:2]"
   ]
  },
  {
   "cell_type": "markdown",
   "metadata": {},
   "source": [
    "If the step parameter is negative, you' will be slicing in reverse."
   ]
  },
  {
   "cell_type": "code",
   "execution_count": 47,
   "metadata": {},
   "outputs": [
    {
     "data": {
      "text/plain": [
       "[16, 9, 4, 2, 1]"
      ]
     },
     "execution_count": 47,
     "metadata": {},
     "output_type": "execute_result"
    }
   ],
   "source": [
    "seq[::-1]"
   ]
  },
  {
   "cell_type": "markdown",
   "metadata": {},
   "source": [
    "We will return to indexing and slicing later in the section that deals with Numpy arrays."
   ]
  },
  {
   "cell_type": "markdown",
   "metadata": {},
   "source": [
    "### 4.4 Dictionaries\n",
    "\n",
    "A _dictionary_ is a structured type used to store _key-value_ pairs. This is a very versatile structure as the values can be of any type supported by Python (e.g. integers, scalars, lists, numpy arrays, etc.). Dictionaries are constructed with curly brackets and key and values are separated by a colon as follows"
   ]
  },
  {
   "cell_type": "code",
   "execution_count": 48,
   "metadata": {},
   "outputs": [
    {
     "data": {
      "text/plain": [
       "dict"
      ]
     },
     "execution_count": 48,
     "metadata": {},
     "output_type": "execute_result"
    }
   ],
   "source": [
    "data = {'T': [25, 100, 200],\n",
    "        'P': [1, 100, 200],\n",
    "        'ref': 'Ari et al.'}\n",
    "\n",
    "type(data)"
   ]
  },
  {
   "cell_type": "code",
   "execution_count": 49,
   "metadata": {},
   "outputs": [
    {
     "data": {
      "text/plain": [
       "([25, 100, 200], list)"
      ]
     },
     "execution_count": 49,
     "metadata": {},
     "output_type": "execute_result"
    }
   ],
   "source": [
    "data['T'], type(data['T'])"
   ]
  },
  {
   "cell_type": "code",
   "execution_count": 50,
   "metadata": {},
   "outputs": [
    {
     "data": {
      "text/plain": [
       "'Ari et al.'"
      ]
     },
     "execution_count": 50,
     "metadata": {},
     "output_type": "execute_result"
    }
   ],
   "source": [
    "data['ref']"
   ]
  },
  {
   "cell_type": "code",
   "execution_count": 51,
   "metadata": {},
   "outputs": [],
   "source": [
    "# adding a new entry in the dictionary\n",
    "data['year'] = 2015"
   ]
  },
  {
   "cell_type": "code",
   "execution_count": 52,
   "metadata": {},
   "outputs": [
    {
     "data": {
      "text/plain": [
       "{'T': [25, 100, 200], 'P': [1, 100, 200], 'ref': 'Ari et al.', 'year': 2015}"
      ]
     },
     "execution_count": 52,
     "metadata": {},
     "output_type": "execute_result"
    }
   ],
   "source": [
    "data"
   ]
  },
  {
   "cell_type": "code",
   "execution_count": 53,
   "metadata": {},
   "outputs": [
    {
     "data": {
      "text/plain": [
       "dict_keys(['T', 'P', 'ref', 'year'])"
      ]
     },
     "execution_count": 53,
     "metadata": {},
     "output_type": "execute_result"
    }
   ],
   "source": [
    "# get dictionary keys\n",
    "data.keys()"
   ]
  },
  {
   "cell_type": "code",
   "execution_count": 54,
   "metadata": {},
   "outputs": [
    {
     "data": {
      "text/plain": [
       "100"
      ]
     },
     "execution_count": 54,
     "metadata": {},
     "output_type": "execute_result"
    }
   ],
   "source": [
    "# Example of slicing: get the second value of the list with key 'P'\n",
    "data['P'][1]"
   ]
  },
  {
   "cell_type": "markdown",
   "metadata": {},
   "source": [
    "### 4.5 Use the ``SimpleNamespace`` method to store related variables (and keep things tidy)\n",
    "\n",
    "Python ``SimpleNamespace`` method provides an easy way to store related variables and keep things tidy without the need of using a Python dictionary or generate a very large number of variables in the scope. ``SimpleNamespace`` has the advantage over Python dictionaries of accessing the values using the \"dot\" notation, this is using the syntax ``varname.attribute`` instead of ``varname['attribute']``.\n",
    "\n",
    "For example, imagine that we want to set a threesome of coordinates. In this case, instead of generating three different variables, it would be more convenient to use a single name called ``coordinates`` containing the different values of the coordinates within that _object_ called ``coordinates`` as follows"
   ]
  },
  {
   "cell_type": "code",
   "execution_count": 55,
   "metadata": {},
   "outputs": [
    {
     "data": {
      "text/plain": [
       "namespace(x=5, y=41, z=40)"
      ]
     },
     "execution_count": 55,
     "metadata": {},
     "output_type": "execute_result"
    }
   ],
   "source": [
    "from types import SimpleNamespace\n",
    "\n",
    "coordinates = SimpleNamespace(x=5, y=41, z=40)\n",
    "coordinates"
   ]
  },
  {
   "cell_type": "code",
   "execution_count": 56,
   "metadata": {},
   "outputs": [
    {
     "data": {
      "text/plain": [
       "types.SimpleNamespace"
      ]
     },
     "execution_count": 56,
     "metadata": {},
     "output_type": "execute_result"
    }
   ],
   "source": [
    "type(coordinates)"
   ]
  },
  {
   "cell_type": "code",
   "execution_count": 57,
   "metadata": {},
   "outputs": [
    {
     "data": {
      "text/plain": [
       "5"
      ]
     },
     "execution_count": 57,
     "metadata": {},
     "output_type": "execute_result"
    }
   ],
   "source": [
    "# get one of the coordinates using the dot notation\n",
    "coordinates.x"
   ]
  },
  {
   "cell_type": "code",
   "execution_count": 58,
   "metadata": {},
   "outputs": [
    {
     "data": {
      "text/plain": [
       "namespace(x=5, y=41, z=41)"
      ]
     },
     "execution_count": 58,
     "metadata": {},
     "output_type": "execute_result"
    }
   ],
   "source": [
    "# modify one of the values\n",
    "coordinates.z = 41\n",
    "coordinates"
   ]
  },
  {
   "cell_type": "code",
   "execution_count": 59,
   "metadata": {},
   "outputs": [
    {
     "data": {
      "text/plain": [
       "namespace(x=5, y=41, z=41, info='UTM')"
      ]
     },
     "execution_count": 59,
     "metadata": {},
     "output_type": "execute_result"
    }
   ],
   "source": [
    "# add a new field, for example a string containing the type of coordinates\n",
    "coordinates.info = 'UTM'\n",
    "coordinates"
   ]
  },
  {
   "cell_type": "code",
   "execution_count": 60,
   "metadata": {},
   "outputs": [
    {
     "data": {
      "text/plain": [
       "namespace(T=[25, 100, 200], P=[1, 100, 200], ref='Ari et al.', year=2015)"
      ]
     },
     "execution_count": 60,
     "metadata": {},
     "output_type": "execute_result"
    }
   ],
   "source": [
    "#convert a dictionary into a SimpleNameSpace\n",
    "new_data = SimpleNamespace(**data)\n",
    "new_data"
   ]
  },
  {
   "cell_type": "markdown",
   "metadata": {},
   "source": [
    "## 5. Python functions\n",
    "\n",
    "A **function** a self-contained block of code that encapsulates a specific task or group of related tasks. We have already used several built-in Python functions in this notebook, e.g. ``print()``, or functions belonging to different modules such as ``math.log()``. Python allow the user to define their own functions. To define function in Python, one needs to use the keyword ``def`` (meaning _define_) followed by the **name of the function**, a tuple containing nothing, an **argument** or a sequence of arguments (or formal parameters) of the function, and a colon. Below this it would be the indented code block as follows\n",
    "\n",
    "```python\n",
    "def function_name(sequence of arguments):\n",
    "    body of function\n",
    "```\n",
    "\n",
    "For example"
   ]
  },
  {
   "cell_type": "code",
   "execution_count": 61,
   "metadata": {},
   "outputs": [
    {
     "data": {
      "text/plain": [
       "2"
      ]
     },
     "execution_count": 61,
     "metadata": {},
     "output_type": "execute_result"
    }
   ],
   "source": [
    "# define a dummy function that returns the minimum value between two values\n",
    "def min_value(x, y):\n",
    "    if x < y:\n",
    "        return x\n",
    "    else:\n",
    "        return y\n",
    "\n",
    "# use the function\n",
    "min_value(2, 6)"
   ]
  },
  {
   "cell_type": "markdown",
   "metadata": {},
   "source": [
    "In the example above ``x`` and ``y`` are the arguments of the function. There are two ways to bind the arguments and the values. The **positional** way, used in the example above ``min_value(2, 6)`` in which the position of the values within the tuple binds these and the arguments, x to 2 and y to 6 in this case. The **keyword argument** way, in which one bound the arguments names and the values ``min_value(x=2, y=6)`` to make it more explicit. Lastly, within the _function body_, a special Python statement named ``return`` need to be used, if not the output of the function will be ``None``. It is important to note that when you create a variable inside a function it is local and it only exists inside the scope of the function. This means that the user does not have to worry about the name of the variables used within the functions.\n",
    "\n",
    "Python allows you to document the functions using text between triple quotation marks (commonly referred to as a **docstring**). Once the docstring is included within the function, it can be accessed using the command ``help()`` or the symbols ``?`` or ``??`` (you will probably also get a floating window showing this information as soon as you write the function on some IDES). An example below."
   ]
  },
  {
   "cell_type": "code",
   "execution_count": 62,
   "metadata": {},
   "outputs": [],
   "source": [
    "def min_value(x, y):\n",
    "    \"\"\"Returns minimum of two numbers\n",
    "\n",
    "    Parameters\n",
    "    ----------\n",
    "    x : int or float\n",
    "        the first number\n",
    "    y : int or float\n",
    "        the second number\n",
    "    \"\"\"\n",
    "    \n",
    "    if x < y:\n",
    "        return x\n",
    "    else:\n",
    "        return y"
   ]
  },
  {
   "cell_type": "code",
   "execution_count": 63,
   "metadata": {},
   "outputs": [
    {
     "name": "stdout",
     "output_type": "stream",
     "text": [
      "Help on function min_value in module __main__:\n",
      "\n",
      "min_value(x, y)\n",
      "    Returns minimum of two numbers\n",
      "    \n",
      "    Parameters\n",
      "    ----------\n",
      "    x : int or float\n",
      "        the first number\n",
      "    y : int or float\n",
      "        the second number\n",
      "\n"
     ]
    }
   ],
   "source": [
    "help(min_value)  # you can also use: min_value?"
   ]
  },
  {
   "cell_type": "markdown",
   "metadata": {},
   "source": [
    "## 6. Loops\n",
    "\n",
    "Loops are logical structures that repeat a sequence of code until a certain condition is met.\n",
    "\n",
    "### 6.1 For loops\n",
    "\n",
    "A **for loop** is a construct that iterates over a sequence of elements including strings and structured types such as lists, tuples, dictionaries or arrays. It has the following form:\n",
    "\n",
    "```python\n",
    "for item in sequence:\n",
    "    code block\n",
    "```\n",
    "\n",
    "This construct applies the code block until the sequence is exhausted or a break statement is reached within the code block. Let's see a few examples:"
   ]
  },
  {
   "cell_type": "code",
   "execution_count": 64,
   "metadata": {},
   "outputs": [
    {
     "name": "stdout",
     "output_type": "stream",
     "text": [
      "1\n",
      "2\n",
      "3\n",
      "4\n"
     ]
    }
   ],
   "source": [
    "seq = [1, 2, 3, 4]\n",
    "\n",
    "for item in seq:\n",
    "    print(item)"
   ]
  },
  {
   "cell_type": "code",
   "execution_count": 65,
   "metadata": {},
   "outputs": [
    {
     "name": "stdout",
     "output_type": "stream",
     "text": [
      "Even numbers: [2, 4]\n",
      "Odd numbers: [1, 3]\n"
     ]
    }
   ],
   "source": [
    "# separate the even and odd numbers in seq\n",
    "\n",
    "# create two empty lists\n",
    "evens = []\n",
    "odds = []\n",
    "\n",
    "# iterate over the list and append even and odd numbers separately\n",
    "for value in seq:\n",
    "    if value % 2 == 0:\n",
    "        evens.append(value)  # uses Python append() method to append values to empty lists\n",
    "    else:\n",
    "        odds.append(value)\n",
    "\n",
    "print('Even numbers:', evens)\n",
    "print('Odd numbers:', odds)"
   ]
  },
  {
   "cell_type": "code",
   "execution_count": 66,
   "metadata": {},
   "outputs": [
    {
     "data": {
      "text/plain": [
       "[1, 8, 27, 64]"
      ]
     },
     "execution_count": 66,
     "metadata": {},
     "output_type": "execute_result"
    }
   ],
   "source": [
    "# we can update the values of a list using the indexes (remember that lists are mutable objects)\n",
    "index = 0\n",
    "\n",
    "for i in seq:\n",
    "    seq[index] = i**3\n",
    "    index += 1  # this is equivalent to: index = index + 1\n",
    "\n",
    "seq"
   ]
  },
  {
   "cell_type": "markdown",
   "metadata": {},
   "source": [
    "The ``enumerate()`` method allows making the code above more concise. This built-in function returns the index and the iterable at the same time so that it is no longer neccesary to create a variable for indexing and updating the index during the loop. Let's show how ``enumerate()`` works"
   ]
  },
  {
   "cell_type": "code",
   "execution_count": 67,
   "metadata": {},
   "outputs": [
    {
     "name": "stdout",
     "output_type": "stream",
     "text": [
      "index = 0 ; item = 1\n",
      "index = 1 ; item = 8\n",
      "index = 2 ; item = 27\n",
      "index = 3 ; item = 64\n"
     ]
    }
   ],
   "source": [
    "for index, item in enumerate(seq):\n",
    "    print('index =', index, '; item =', item)"
   ]
  },
  {
   "cell_type": "code",
   "execution_count": 68,
   "metadata": {},
   "outputs": [
    {
     "data": {
      "text/plain": [
       "[1, 8, 27, 64]"
      ]
     },
     "execution_count": 68,
     "metadata": {},
     "output_type": "execute_result"
    }
   ],
   "source": [
    "# estimate the cubes of a list using enumerate()\n",
    "seq = [1, 2, 3, 4]\n",
    "\n",
    "for index, value in enumerate(seq):\n",
    "    seq[index] = value**3\n",
    "\n",
    "seq"
   ]
  },
  {
   "cell_type": "markdown",
   "metadata": {},
   "source": [
    "### 6.2 While loops\n",
    "\n",
    "A **while loop** is a construct that apply a chunk of code until a condition is met. It has the following form:\n",
    "\n",
    "```python\n",
    "while condition:\n",
    "    code block\n",
    "```\n",
    "\n",
    "As an dummy example, let's create a while loop that increases the value of a variable up to a defined maximum value."
   ]
  },
  {
   "cell_type": "code",
   "execution_count": 69,
   "metadata": {},
   "outputs": [
    {
     "name": "stdout",
     "output_type": "stream",
     "text": [
      "0\n",
      "1\n",
      "2\n",
      "3\n",
      "4\n"
     ]
    }
   ],
   "source": [
    "foo = 0\n",
    "\n",
    "while foo < 5:\n",
    "    print(foo)\n",
    "    foo += 1"
   ]
  },
  {
   "cell_type": "markdown",
   "metadata": {},
   "source": [
    "## 7. Matplotlib: the Python (default) plotting library\n",
    "\n",
    "> **What it is?** Matplotlib is the Python standard data visualization tool. It allows creating static, animated, and interactive visualizations. Many other data visualization tools for Python (e.g. seaborn) are built on Matplotlib. See https://matplotlib.org/   \n",
    "> **What it is used for?** Analize, explore, and show relationships between data.\n",
    "\n",
    "\n",
    "> By default, Jupyter notebooks...TODO..using the inline backend, this is the plots are shown within the document\n"
   ]
  },
  {
   "cell_type": "code",
   "execution_count": 8,
   "metadata": {},
   "outputs": [
    {
     "data": {
      "text/plain": [
       "Text(0, 0.5, 'here we use Latex: $x^y$')"
      ]
     },
     "execution_count": 8,
     "metadata": {},
     "output_type": "execute_result"
    },
    {
     "data": {
      "image/png": "[encoded data removed]",
      "image/svg+xml": [
       "<?xml version=\"1.0\" encoding=\"utf-8\" standalone=\"no\"?>\r\n",
       "<!DOCTYPE svg PUBLIC \"-//W3C//DTD SVG 1.1//EN\"\r\n",
       "  \"http://www.w3.org/Graphics/SVG/1.1/DTD/svg11.dtd\">\r\n",
       "<!-- Created with matplotlib (https://matplotlib.org/) -->\r\n",
       "<svg height=\"271.874375pt\" version=\"1.1\" viewBox=\"0 0 390.345625 271.874375\" width=\"390.345625pt\" xmlns=\"http://www.w3.org/2000/svg\" xmlns:xlink=\"http://www.w3.org/1999/xlink\">\r\n",
       " <metadata>\r\n",
       "  <rdf:RDF xmlns:cc=\"http://creativecommons.org/ns#\" xmlns:dc=\"http://purl.org/dc/elements/1.1/\" xmlns:rdf=\"http://www.w3.org/1999/02/22-rdf-syntax-ns#\">\r\n",
       "   <cc:Work>\r\n",
       "    <dc:type rdf:resource=\"http://purl.org/dc/dcmitype/StillImage\"/>\r\n",
       "    <dc:date>2021-04-11T17:38:34.983948</dc:date>\r\n",
       "    <dc:format>image/svg+xml</dc:format>\r\n",
       "    <dc:creator>\r\n",
       "     <cc:Agent>\r\n",
       "      <dc:title>Matplotlib v3.3.4, https://matplotlib.org/</dc:title>\r\n",
       "     </cc:Agent>\r\n",
       "    </dc:creator>\r\n",
       "   </cc:Work>\r\n",
       "  </rdf:RDF>\r\n",
       " </metadata>\r\n",
       " <defs>\r\n",
       "  <style type=\"text/css\">*{stroke-linecap:butt;stroke-linejoin:round;}</style>\r\n",
       " </defs>\r\n",
       " <g id=\"figure_1\">\r\n",
       "  <g id=\"patch_1\">\r\n",
       "   <path d=\"M 0 271.874375 \r\n",
       "L 390.345625 271.874375 \r\n",
       "L 390.345625 0 \r\n",
       "L 0 0 \r\n",
       "z\r\n",
       "\" style=\"fill:none;\"/>\r\n",
       "  </g>\r\n",
       "  <g id=\"axes_1\">\r\n",
       "   <g id=\"patch_2\">\r\n",
       "    <path d=\"M 48.345625 224.64 \r\n",
       "L 383.145625 224.64 \r\n",
       "L 383.145625 7.2 \r\n",
       "L 48.345625 7.2 \r\n",
       "z\r\n",
       "\" style=\"fill:#ffffff;\"/>\r\n",
       "   </g>\r\n",
       "   <g id=\"matplotlib.axis_1\">\r\n",
       "    <g id=\"xtick_1\">\r\n",
       "     <g id=\"line2d_1\">\r\n",
       "      <defs>\r\n",
       "       <path d=\"M 0 0 \r\n",
       "L 0 3.5 \r\n",
       "\" id=\"m144a68c025\" style=\"stroke:#000000;stroke-width:0.8;\"/>\r\n",
       "      </defs>\r\n",
       "      <g>\r\n",
       "       <use style=\"stroke:#000000;stroke-width:0.8;\" x=\"63.563807\" xlink:href=\"#m144a68c025\" y=\"224.64\"/>\r\n",
       "      </g>\r\n",
       "     </g>\r\n",
       "     <g id=\"text_1\">\r\n",
       "      <!-- 1.0 -->\r\n",
       "      <g transform=\"translate(55.612244 239.238437)scale(0.1 -0.1)\">\r\n",
       "       <defs>\r\n",
       "        <path d=\"M 12.40625 8.296875 \r\n",
       "L 28.515625 8.296875 \r\n",
       "L 28.515625 63.921875 \r\n",
       "L 10.984375 60.40625 \r\n",
       "L 10.984375 69.390625 \r\n",
       "L 28.421875 72.90625 \r\n",
       "L 38.28125 72.90625 \r\n",
       "L 38.28125 8.296875 \r\n",
       "L 54.390625 8.296875 \r\n",
       "L 54.390625 0 \r\n",
       "L 12.40625 0 \r\n",
       "z\r\n",
       "\" id=\"DejaVuSans-49\"/>\r\n",
       "        <path d=\"M 10.6875 12.40625 \r\n",
       "L 21 12.40625 \r\n",
       "L 21 0 \r\n",
       "L 10.6875 0 \r\n",
       "z\r\n",
       "\" id=\"DejaVuSans-46\"/>\r\n",
       "        <path d=\"M 31.78125 66.40625 \r\n",
       "Q 24.171875 66.40625 20.328125 58.90625 \r\n",
       "Q 16.5 51.421875 16.5 36.375 \r\n",
       "Q 16.5 21.390625 20.328125 13.890625 \r\n",
       "Q 24.171875 6.390625 31.78125 6.390625 \r\n",
       "Q 39.453125 6.390625 43.28125 13.890625 \r\n",
       "Q 47.125 21.390625 47.125 36.375 \r\n",
       "Q 47.125 51.421875 43.28125 58.90625 \r\n",
       "Q 39.453125 66.40625 31.78125 66.40625 \r\n",
       "z\r\n",
       "M 31.78125 74.21875 \r\n",
       "Q 44.046875 74.21875 50.515625 64.515625 \r\n",
       "Q 56.984375 54.828125 56.984375 36.375 \r\n",
       "Q 56.984375 17.96875 50.515625 8.265625 \r\n",
       "Q 44.046875 -1.421875 31.78125 -1.421875 \r\n",
       "Q 19.53125 -1.421875 13.0625 8.265625 \r\n",
       "Q 6.59375 17.96875 6.59375 36.375 \r\n",
       "Q 6.59375 54.828125 13.0625 64.515625 \r\n",
       "Q 19.53125 74.21875 31.78125 74.21875 \r\n",
       "z\r\n",
       "\" id=\"DejaVuSans-48\"/>\r\n",
       "       </defs>\r\n",
       "       <use xlink:href=\"#DejaVuSans-49\"/>\r\n",
       "       <use x=\"63.623047\" xlink:href=\"#DejaVuSans-46\"/>\r\n",
       "       <use x=\"95.410156\" xlink:href=\"#DejaVuSans-48\"/>\r\n",
       "      </g>\r\n",
       "     </g>\r\n",
       "    </g>\r\n",
       "    <g id=\"xtick_2\">\r\n",
       "     <g id=\"line2d_2\">\r\n",
       "      <g>\r\n",
       "       <use style=\"stroke:#000000;stroke-width:0.8;\" x=\"114.29108\" xlink:href=\"#m144a68c025\" y=\"224.64\"/>\r\n",
       "      </g>\r\n",
       "     </g>\r\n",
       "     <g id=\"text_2\">\r\n",
       "      <!-- 1.5 -->\r\n",
       "      <g transform=\"translate(106.339517 239.238437)scale(0.1 -0.1)\">\r\n",
       "       <defs>\r\n",
       "        <path d=\"M 10.796875 72.90625 \r\n",
       "L 49.515625 72.90625 \r\n",
       "L 49.515625 64.59375 \r\n",
       "L 19.828125 64.59375 \r\n",
       "L 19.828125 46.734375 \r\n",
       "Q 21.96875 47.46875 24.109375 47.828125 \r\n",
       "Q 26.265625 48.1875 28.421875 48.1875 \r\n",
       "Q 40.625 48.1875 47.75 41.5 \r\n",
       "Q 54.890625 34.8125 54.890625 23.390625 \r\n",
       "Q 54.890625 11.625 47.5625 5.09375 \r\n",
       "Q 40.234375 -1.421875 26.90625 -1.421875 \r\n",
       "Q 22.3125 -1.421875 17.546875 -0.640625 \r\n",
       "Q 12.796875 0.140625 7.71875 1.703125 \r\n",
       "L 7.71875 11.625 \r\n",
       "Q 12.109375 9.234375 16.796875 8.0625 \r\n",
       "Q 21.484375 6.890625 26.703125 6.890625 \r\n",
       "Q 35.15625 6.890625 40.078125 11.328125 \r\n",
       "Q 45.015625 15.765625 45.015625 23.390625 \r\n",
       "Q 45.015625 31 40.078125 35.4375 \r\n",
       "Q 35.15625 39.890625 26.703125 39.890625 \r\n",
       "Q 22.75 39.890625 18.8125 39.015625 \r\n",
       "Q 14.890625 38.140625 10.796875 36.28125 \r\n",
       "z\r\n",
       "\" id=\"DejaVuSans-53\"/>\r\n",
       "       </defs>\r\n",
       "       <use xlink:href=\"#DejaVuSans-49\"/>\r\n",
       "       <use x=\"63.623047\" xlink:href=\"#DejaVuSans-46\"/>\r\n",
       "       <use x=\"95.410156\" xlink:href=\"#DejaVuSans-53\"/>\r\n",
       "      </g>\r\n",
       "     </g>\r\n",
       "    </g>\r\n",
       "    <g id=\"xtick_3\">\r\n",
       "     <g id=\"line2d_3\">\r\n",
       "      <g>\r\n",
       "       <use style=\"stroke:#000000;stroke-width:0.8;\" x=\"165.018352\" xlink:href=\"#m144a68c025\" y=\"224.64\"/>\r\n",
       "      </g>\r\n",
       "     </g>\r\n",
       "     <g id=\"text_3\">\r\n",
       "      <!-- 2.0 -->\r\n",
       "      <g transform=\"translate(157.06679 239.238437)scale(0.1 -0.1)\">\r\n",
       "       <defs>\r\n",
       "        <path d=\"M 19.1875 8.296875 \r\n",
       "L 53.609375 8.296875 \r\n",
       "L 53.609375 0 \r\n",
       "L 7.328125 0 \r\n",
       "L 7.328125 8.296875 \r\n",
       "Q 12.9375 14.109375 22.625 23.890625 \r\n",
       "Q 32.328125 33.6875 34.8125 36.53125 \r\n",
       "Q 39.546875 41.84375 41.421875 45.53125 \r\n",
       "Q 43.3125 49.21875 43.3125 52.78125 \r\n",
       "Q 43.3125 58.59375 39.234375 62.25 \r\n",
       "Q 35.15625 65.921875 28.609375 65.921875 \r\n",
       "Q 23.96875 65.921875 18.8125 64.3125 \r\n",
       "Q 13.671875 62.703125 7.8125 59.421875 \r\n",
       "L 7.8125 69.390625 \r\n",
       "Q 13.765625 71.78125 18.9375 73 \r\n",
       "Q 24.125 74.21875 28.421875 74.21875 \r\n",
       "Q 39.75 74.21875 46.484375 68.546875 \r\n",
       "Q 53.21875 62.890625 53.21875 53.421875 \r\n",
       "Q 53.21875 48.921875 51.53125 44.890625 \r\n",
       "Q 49.859375 40.875 45.40625 35.40625 \r\n",
       "Q 44.1875 33.984375 37.640625 27.21875 \r\n",
       "Q 31.109375 20.453125 19.1875 8.296875 \r\n",
       "z\r\n",
       "\" id=\"DejaVuSans-50\"/>\r\n",
       "       </defs>\r\n",
       "       <use xlink:href=\"#DejaVuSans-50\"/>\r\n",
       "       <use x=\"63.623047\" xlink:href=\"#DejaVuSans-46\"/>\r\n",
       "       <use x=\"95.410156\" xlink:href=\"#DejaVuSans-48\"/>\r\n",
       "      </g>\r\n",
       "     </g>\r\n",
       "    </g>\r\n",
       "    <g id=\"xtick_4\">\r\n",
       "     <g id=\"line2d_4\">\r\n",
       "      <g>\r\n",
       "       <use style=\"stroke:#000000;stroke-width:0.8;\" x=\"215.745625\" xlink:href=\"#m144a68c025\" y=\"224.64\"/>\r\n",
       "      </g>\r\n",
       "     </g>\r\n",
       "     <g id=\"text_4\">\r\n",
       "      <!-- 2.5 -->\r\n",
       "      <g transform=\"translate(207.794062 239.238437)scale(0.1 -0.1)\">\r\n",
       "       <use xlink:href=\"#DejaVuSans-50\"/>\r\n",
       "       <use x=\"63.623047\" xlink:href=\"#DejaVuSans-46\"/>\r\n",
       "       <use x=\"95.410156\" xlink:href=\"#DejaVuSans-53\"/>\r\n",
       "      </g>\r\n",
       "     </g>\r\n",
       "    </g>\r\n",
       "    <g id=\"xtick_5\">\r\n",
       "     <g id=\"line2d_5\">\r\n",
       "      <g>\r\n",
       "       <use style=\"stroke:#000000;stroke-width:0.8;\" x=\"266.472898\" xlink:href=\"#m144a68c025\" y=\"224.64\"/>\r\n",
       "      </g>\r\n",
       "     </g>\r\n",
       "     <g id=\"text_5\">\r\n",
       "      <!-- 3.0 -->\r\n",
       "      <g transform=\"translate(258.521335 239.238437)scale(0.1 -0.1)\">\r\n",
       "       <defs>\r\n",
       "        <path d=\"M 40.578125 39.3125 \r\n",
       "Q 47.65625 37.796875 51.625 33 \r\n",
       "Q 55.609375 28.21875 55.609375 21.1875 \r\n",
       "Q 55.609375 10.40625 48.1875 4.484375 \r\n",
       "Q 40.765625 -1.421875 27.09375 -1.421875 \r\n",
       "Q 22.515625 -1.421875 17.65625 -0.515625 \r\n",
       "Q 12.796875 0.390625 7.625 2.203125 \r\n",
       "L 7.625 11.71875 \r\n",
       "Q 11.71875 9.328125 16.59375 8.109375 \r\n",
       "Q 21.484375 6.890625 26.8125 6.890625 \r\n",
       "Q 36.078125 6.890625 40.9375 10.546875 \r\n",
       "Q 45.796875 14.203125 45.796875 21.1875 \r\n",
       "Q 45.796875 27.640625 41.28125 31.265625 \r\n",
       "Q 36.765625 34.90625 28.71875 34.90625 \r\n",
       "L 20.21875 34.90625 \r\n",
       "L 20.21875 43.015625 \r\n",
       "L 29.109375 43.015625 \r\n",
       "Q 36.375 43.015625 40.234375 45.921875 \r\n",
       "Q 44.09375 48.828125 44.09375 54.296875 \r\n",
       "Q 44.09375 59.90625 40.109375 62.90625 \r\n",
       "Q 36.140625 65.921875 28.71875 65.921875 \r\n",
       "Q 24.65625 65.921875 20.015625 65.03125 \r\n",
       "Q 15.375 64.15625 9.8125 62.3125 \r\n",
       "L 9.8125 71.09375 \r\n",
       "Q 15.4375 72.65625 20.34375 73.4375 \r\n",
       "Q 25.25 74.21875 29.59375 74.21875 \r\n",
       "Q 40.828125 74.21875 47.359375 69.109375 \r\n",
       "Q 53.90625 64.015625 53.90625 55.328125 \r\n",
       "Q 53.90625 49.265625 50.4375 45.09375 \r\n",
       "Q 46.96875 40.921875 40.578125 39.3125 \r\n",
       "z\r\n",
       "\" id=\"DejaVuSans-51\"/>\r\n",
       "       </defs>\r\n",
       "       <use xlink:href=\"#DejaVuSans-51\"/>\r\n",
       "       <use x=\"63.623047\" xlink:href=\"#DejaVuSans-46\"/>\r\n",
       "       <use x=\"95.410156\" xlink:href=\"#DejaVuSans-48\"/>\r\n",
       "      </g>\r\n",
       "     </g>\r\n",
       "    </g>\r\n",
       "    <g id=\"xtick_6\">\r\n",
       "     <g id=\"line2d_6\">\r\n",
       "      <g>\r\n",
       "       <use style=\"stroke:#000000;stroke-width:0.8;\" x=\"317.20017\" xlink:href=\"#m144a68c025\" y=\"224.64\"/>\r\n",
       "      </g>\r\n",
       "     </g>\r\n",
       "     <g id=\"text_6\">\r\n",
       "      <!-- 3.5 -->\r\n",
       "      <g transform=\"translate(309.248608 239.238437)scale(0.1 -0.1)\">\r\n",
       "       <use xlink:href=\"#DejaVuSans-51\"/>\r\n",
       "       <use x=\"63.623047\" xlink:href=\"#DejaVuSans-46\"/>\r\n",
       "       <use x=\"95.410156\" xlink:href=\"#DejaVuSans-53\"/>\r\n",
       "      </g>\r\n",
       "     </g>\r\n",
       "    </g>\r\n",
       "    <g id=\"xtick_7\">\r\n",
       "     <g id=\"line2d_7\">\r\n",
       "      <g>\r\n",
       "       <use style=\"stroke:#000000;stroke-width:0.8;\" x=\"367.927443\" xlink:href=\"#m144a68c025\" y=\"224.64\"/>\r\n",
       "      </g>\r\n",
       "     </g>\r\n",
       "     <g id=\"text_7\">\r\n",
       "      <!-- 4.0 -->\r\n",
       "      <g transform=\"translate(359.975881 239.238437)scale(0.1 -0.1)\">\r\n",
       "       <defs>\r\n",
       "        <path d=\"M 37.796875 64.3125 \r\n",
       "L 12.890625 25.390625 \r\n",
       "L 37.796875 25.390625 \r\n",
       "z\r\n",
       "M 35.203125 72.90625 \r\n",
       "L 47.609375 72.90625 \r\n",
       "L 47.609375 25.390625 \r\n",
       "L 58.015625 25.390625 \r\n",
       "L 58.015625 17.1875 \r\n",
       "L 47.609375 17.1875 \r\n",
       "L 47.609375 0 \r\n",
       "L 37.796875 0 \r\n",
       "L 37.796875 17.1875 \r\n",
       "L 4.890625 17.1875 \r\n",
       "L 4.890625 26.703125 \r\n",
       "z\r\n",
       "\" id=\"DejaVuSans-52\"/>\r\n",
       "       </defs>\r\n",
       "       <use xlink:href=\"#DejaVuSans-52\"/>\r\n",
       "       <use x=\"63.623047\" xlink:href=\"#DejaVuSans-46\"/>\r\n",
       "       <use x=\"95.410156\" xlink:href=\"#DejaVuSans-48\"/>\r\n",
       "      </g>\r\n",
       "     </g>\r\n",
       "    </g>\r\n",
       "    <g id=\"text_8\">\r\n",
       "     <!-- this is label x -->\r\n",
       "     <g transform=\"translate(149.87375 260.515)scale(0.2 -0.2)\">\r\n",
       "      <defs>\r\n",
       "       <path d=\"M 18.3125 70.21875 \r\n",
       "L 18.3125 54.6875 \r\n",
       "L 36.8125 54.6875 \r\n",
       "L 36.8125 47.703125 \r\n",
       "L 18.3125 47.703125 \r\n",
       "L 18.3125 18.015625 \r\n",
       "Q 18.3125 11.328125 20.140625 9.421875 \r\n",
       "Q 21.96875 7.515625 27.59375 7.515625 \r\n",
       "L 36.8125 7.515625 \r\n",
       "L 36.8125 0 \r\n",
       "L 27.59375 0 \r\n",
       "Q 17.1875 0 13.234375 3.875 \r\n",
       "Q 9.28125 7.765625 9.28125 18.015625 \r\n",
       "L 9.28125 47.703125 \r\n",
       "L 2.6875 47.703125 \r\n",
       "L 2.6875 54.6875 \r\n",
       "L 9.28125 54.6875 \r\n",
       "L 9.28125 70.21875 \r\n",
       "z\r\n",
       "\" id=\"DejaVuSans-116\"/>\r\n",
       "       <path d=\"M 54.890625 33.015625 \r\n",
       "L 54.890625 0 \r\n",
       "L 45.90625 0 \r\n",
       "L 45.90625 32.71875 \r\n",
       "Q 45.90625 40.484375 42.875 44.328125 \r\n",
       "Q 39.84375 48.1875 33.796875 48.1875 \r\n",
       "Q 26.515625 48.1875 22.3125 43.546875 \r\n",
       "Q 18.109375 38.921875 18.109375 30.90625 \r\n",
       "L 18.109375 0 \r\n",
       "L 9.078125 0 \r\n",
       "L 9.078125 75.984375 \r\n",
       "L 18.109375 75.984375 \r\n",
       "L 18.109375 46.1875 \r\n",
       "Q 21.34375 51.125 25.703125 53.5625 \r\n",
       "Q 30.078125 56 35.796875 56 \r\n",
       "Q 45.21875 56 50.046875 50.171875 \r\n",
       "Q 54.890625 44.34375 54.890625 33.015625 \r\n",
       "z\r\n",
       "\" id=\"DejaVuSans-104\"/>\r\n",
       "       <path d=\"M 9.421875 54.6875 \r\n",
       "L 18.40625 54.6875 \r\n",
       "L 18.40625 0 \r\n",
       "L 9.421875 0 \r\n",
       "z\r\n",
       "M 9.421875 75.984375 \r\n",
       "L 18.40625 75.984375 \r\n",
       "L 18.40625 64.59375 \r\n",
       "L 9.421875 64.59375 \r\n",
       "z\r\n",
       "\" id=\"DejaVuSans-105\"/>\r\n",
       "       <path d=\"M 44.28125 53.078125 \r\n",
       "L 44.28125 44.578125 \r\n",
       "Q 40.484375 46.53125 36.375 47.5 \r\n",
       "Q 32.28125 48.484375 27.875 48.484375 \r\n",
       "Q 21.1875 48.484375 17.84375 46.4375 \r\n",
       "Q 14.5 44.390625 14.5 40.28125 \r\n",
       "Q 14.5 37.15625 16.890625 35.375 \r\n",
       "Q 19.28125 33.59375 26.515625 31.984375 \r\n",
       "L 29.59375 31.296875 \r\n",
       "Q 39.15625 29.25 43.1875 25.515625 \r\n",
       "Q 47.21875 21.78125 47.21875 15.09375 \r\n",
       "Q 47.21875 7.46875 41.1875 3.015625 \r\n",
       "Q 35.15625 -1.421875 24.609375 -1.421875 \r\n",
       "Q 20.21875 -1.421875 15.453125 -0.5625 \r\n",
       "Q 10.6875 0.296875 5.421875 2 \r\n",
       "L 5.421875 11.28125 \r\n",
       "Q 10.40625 8.6875 15.234375 7.390625 \r\n",
       "Q 20.0625 6.109375 24.8125 6.109375 \r\n",
       "Q 31.15625 6.109375 34.5625 8.28125 \r\n",
       "Q 37.984375 10.453125 37.984375 14.40625 \r\n",
       "Q 37.984375 18.0625 35.515625 20.015625 \r\n",
       "Q 33.0625 21.96875 24.703125 23.78125 \r\n",
       "L 21.578125 24.515625 \r\n",
       "Q 13.234375 26.265625 9.515625 29.90625 \r\n",
       "Q 5.8125 33.546875 5.8125 39.890625 \r\n",
       "Q 5.8125 47.609375 11.28125 51.796875 \r\n",
       "Q 16.75 56 26.8125 56 \r\n",
       "Q 31.78125 56 36.171875 55.265625 \r\n",
       "Q 40.578125 54.546875 44.28125 53.078125 \r\n",
       "z\r\n",
       "\" id=\"DejaVuSans-115\"/>\r\n",
       "       <path id=\"DejaVuSans-32\"/>\r\n",
       "       <path d=\"M 9.421875 75.984375 \r\n",
       "L 18.40625 75.984375 \r\n",
       "L 18.40625 0 \r\n",
       "L 9.421875 0 \r\n",
       "z\r\n",
       "\" id=\"DejaVuSans-108\"/>\r\n",
       "       <path d=\"M 34.28125 27.484375 \r\n",
       "Q 23.390625 27.484375 19.1875 25 \r\n",
       "Q 14.984375 22.515625 14.984375 16.5 \r\n",
       "Q 14.984375 11.71875 18.140625 8.90625 \r\n",
       "Q 21.296875 6.109375 26.703125 6.109375 \r\n",
       "Q 34.1875 6.109375 38.703125 11.40625 \r\n",
       "Q 43.21875 16.703125 43.21875 25.484375 \r\n",
       "L 43.21875 27.484375 \r\n",
       "z\r\n",
       "M 52.203125 31.203125 \r\n",
       "L 52.203125 0 \r\n",
       "L 43.21875 0 \r\n",
       "L 43.21875 8.296875 \r\n",
       "Q 40.140625 3.328125 35.546875 0.953125 \r\n",
       "Q 30.953125 -1.421875 24.3125 -1.421875 \r\n",
       "Q 15.921875 -1.421875 10.953125 3.296875 \r\n",
       "Q 6 8.015625 6 15.921875 \r\n",
       "Q 6 25.140625 12.171875 29.828125 \r\n",
       "Q 18.359375 34.515625 30.609375 34.515625 \r\n",
       "L 43.21875 34.515625 \r\n",
       "L 43.21875 35.40625 \r\n",
       "Q 43.21875 41.609375 39.140625 45 \r\n",
       "Q 35.0625 48.390625 27.6875 48.390625 \r\n",
       "Q 23 48.390625 18.546875 47.265625 \r\n",
       "Q 14.109375 46.140625 10.015625 43.890625 \r\n",
       "L 10.015625 52.203125 \r\n",
       "Q 14.9375 54.109375 19.578125 55.046875 \r\n",
       "Q 24.21875 56 28.609375 56 \r\n",
       "Q 40.484375 56 46.34375 49.84375 \r\n",
       "Q 52.203125 43.703125 52.203125 31.203125 \r\n",
       "z\r\n",
       "\" id=\"DejaVuSans-97\"/>\r\n",
       "       <path d=\"M 48.6875 27.296875 \r\n",
       "Q 48.6875 37.203125 44.609375 42.84375 \r\n",
       "Q 40.53125 48.484375 33.40625 48.484375 \r\n",
       "Q 26.265625 48.484375 22.1875 42.84375 \r\n",
       "Q 18.109375 37.203125 18.109375 27.296875 \r\n",
       "Q 18.109375 17.390625 22.1875 11.75 \r\n",
       "Q 26.265625 6.109375 33.40625 6.109375 \r\n",
       "Q 40.53125 6.109375 44.609375 11.75 \r\n",
       "Q 48.6875 17.390625 48.6875 27.296875 \r\n",
       "z\r\n",
       "M 18.109375 46.390625 \r\n",
       "Q 20.953125 51.265625 25.265625 53.625 \r\n",
       "Q 29.59375 56 35.59375 56 \r\n",
       "Q 45.5625 56 51.78125 48.09375 \r\n",
       "Q 58.015625 40.1875 58.015625 27.296875 \r\n",
       "Q 58.015625 14.40625 51.78125 6.484375 \r\n",
       "Q 45.5625 -1.421875 35.59375 -1.421875 \r\n",
       "Q 29.59375 -1.421875 25.265625 0.953125 \r\n",
       "Q 20.953125 3.328125 18.109375 8.203125 \r\n",
       "L 18.109375 0 \r\n",
       "L 9.078125 0 \r\n",
       "L 9.078125 75.984375 \r\n",
       "L 18.109375 75.984375 \r\n",
       "z\r\n",
       "\" id=\"DejaVuSans-98\"/>\r\n",
       "       <path d=\"M 56.203125 29.59375 \r\n",
       "L 56.203125 25.203125 \r\n",
       "L 14.890625 25.203125 \r\n",
       "Q 15.484375 15.921875 20.484375 11.0625 \r\n",
       "Q 25.484375 6.203125 34.421875 6.203125 \r\n",
       "Q 39.59375 6.203125 44.453125 7.46875 \r\n",
       "Q 49.3125 8.734375 54.109375 11.28125 \r\n",
       "L 54.109375 2.78125 \r\n",
       "Q 49.265625 0.734375 44.1875 -0.34375 \r\n",
       "Q 39.109375 -1.421875 33.890625 -1.421875 \r\n",
       "Q 20.796875 -1.421875 13.15625 6.1875 \r\n",
       "Q 5.515625 13.8125 5.515625 26.8125 \r\n",
       "Q 5.515625 40.234375 12.765625 48.109375 \r\n",
       "Q 20.015625 56 32.328125 56 \r\n",
       "Q 43.359375 56 49.78125 48.890625 \r\n",
       "Q 56.203125 41.796875 56.203125 29.59375 \r\n",
       "z\r\n",
       "M 47.21875 32.234375 \r\n",
       "Q 47.125 39.59375 43.09375 43.984375 \r\n",
       "Q 39.0625 48.390625 32.421875 48.390625 \r\n",
       "Q 24.90625 48.390625 20.390625 44.140625 \r\n",
       "Q 15.875 39.890625 15.1875 32.171875 \r\n",
       "z\r\n",
       "\" id=\"DejaVuSans-101\"/>\r\n",
       "       <path d=\"M 54.890625 54.6875 \r\n",
       "L 35.109375 28.078125 \r\n",
       "L 55.90625 0 \r\n",
       "L 45.3125 0 \r\n",
       "L 29.390625 21.484375 \r\n",
       "L 13.484375 0 \r\n",
       "L 2.875 0 \r\n",
       "L 24.125 28.609375 \r\n",
       "L 4.6875 54.6875 \r\n",
       "L 15.28125 54.6875 \r\n",
       "L 29.78125 35.203125 \r\n",
       "L 44.28125 54.6875 \r\n",
       "z\r\n",
       "\" id=\"DejaVuSans-120\"/>\r\n",
       "      </defs>\r\n",
       "      <use xlink:href=\"#DejaVuSans-116\"/>\r\n",
       "      <use x=\"39.208984\" xlink:href=\"#DejaVuSans-104\"/>\r\n",
       "      <use x=\"102.587891\" xlink:href=\"#DejaVuSans-105\"/>\r\n",
       "      <use x=\"130.371094\" xlink:href=\"#DejaVuSans-115\"/>\r\n",
       "      <use x=\"182.470703\" xlink:href=\"#DejaVuSans-32\"/>\r\n",
       "      <use x=\"214.257812\" xlink:href=\"#DejaVuSans-105\"/>\r\n",
       "      <use x=\"242.041016\" xlink:href=\"#DejaVuSans-115\"/>\r\n",
       "      <use x=\"294.140625\" xlink:href=\"#DejaVuSans-32\"/>\r\n",
       "      <use x=\"325.927734\" xlink:href=\"#DejaVuSans-108\"/>\r\n",
       "      <use x=\"353.710938\" xlink:href=\"#DejaVuSans-97\"/>\r\n",
       "      <use x=\"414.990234\" xlink:href=\"#DejaVuSans-98\"/>\r\n",
       "      <use x=\"478.466797\" xlink:href=\"#DejaVuSans-101\"/>\r\n",
       "      <use x=\"539.990234\" xlink:href=\"#DejaVuSans-108\"/>\r\n",
       "      <use x=\"567.773438\" xlink:href=\"#DejaVuSans-32\"/>\r\n",
       "      <use x=\"599.560547\" xlink:href=\"#DejaVuSans-120\"/>\r\n",
       "     </g>\r\n",
       "    </g>\r\n",
       "   </g>\r\n",
       "   <g id=\"matplotlib.axis_2\">\r\n",
       "    <g id=\"ytick_1\">\r\n",
       "     <g id=\"line2d_8\">\r\n",
       "      <defs>\r\n",
       "       <path d=\"M 0 0 \r\n",
       "L -3.5 0 \r\n",
       "\" id=\"m26e605ce97\" style=\"stroke:#000000;stroke-width:0.8;\"/>\r\n",
       "      </defs>\r\n",
       "      <g>\r\n",
       "       <use style=\"stroke:#000000;stroke-width:0.8;\" x=\"48.345625\" xlink:href=\"#m26e605ce97\" y=\"201.578182\"/>\r\n",
       "      </g>\r\n",
       "     </g>\r\n",
       "     <g id=\"text_9\">\r\n",
       "      <!-- 2 -->\r\n",
       "      <g transform=\"translate(34.983125 205.377401)scale(0.1 -0.1)\">\r\n",
       "       <use xlink:href=\"#DejaVuSans-50\"/>\r\n",
       "      </g>\r\n",
       "     </g>\r\n",
       "    </g>\r\n",
       "    <g id=\"ytick_2\">\r\n",
       "     <g id=\"line2d_9\">\r\n",
       "      <g>\r\n",
       "       <use style=\"stroke:#000000;stroke-width:0.8;\" x=\"48.345625\" xlink:href=\"#m26e605ce97\" y=\"175.221818\"/>\r\n",
       "      </g>\r\n",
       "     </g>\r\n",
       "     <g id=\"text_10\">\r\n",
       "      <!-- 4 -->\r\n",
       "      <g transform=\"translate(34.983125 179.021037)scale(0.1 -0.1)\">\r\n",
       "       <use xlink:href=\"#DejaVuSans-52\"/>\r\n",
       "      </g>\r\n",
       "     </g>\r\n",
       "    </g>\r\n",
       "    <g id=\"ytick_3\">\r\n",
       "     <g id=\"line2d_10\">\r\n",
       "      <g>\r\n",
       "       <use style=\"stroke:#000000;stroke-width:0.8;\" x=\"48.345625\" xlink:href=\"#m26e605ce97\" y=\"148.865455\"/>\r\n",
       "      </g>\r\n",
       "     </g>\r\n",
       "     <g id=\"text_11\">\r\n",
       "      <!-- 6 -->\r\n",
       "      <g transform=\"translate(34.983125 152.664673)scale(0.1 -0.1)\">\r\n",
       "       <defs>\r\n",
       "        <path d=\"M 33.015625 40.375 \r\n",
       "Q 26.375 40.375 22.484375 35.828125 \r\n",
       "Q 18.609375 31.296875 18.609375 23.390625 \r\n",
       "Q 18.609375 15.53125 22.484375 10.953125 \r\n",
       "Q 26.375 6.390625 33.015625 6.390625 \r\n",
       "Q 39.65625 6.390625 43.53125 10.953125 \r\n",
       "Q 47.40625 15.53125 47.40625 23.390625 \r\n",
       "Q 47.40625 31.296875 43.53125 35.828125 \r\n",
       "Q 39.65625 40.375 33.015625 40.375 \r\n",
       "z\r\n",
       "M 52.59375 71.296875 \r\n",
       "L 52.59375 62.3125 \r\n",
       "Q 48.875 64.0625 45.09375 64.984375 \r\n",
       "Q 41.3125 65.921875 37.59375 65.921875 \r\n",
       "Q 27.828125 65.921875 22.671875 59.328125 \r\n",
       "Q 17.53125 52.734375 16.796875 39.40625 \r\n",
       "Q 19.671875 43.65625 24.015625 45.921875 \r\n",
       "Q 28.375 48.1875 33.59375 48.1875 \r\n",
       "Q 44.578125 48.1875 50.953125 41.515625 \r\n",
       "Q 57.328125 34.859375 57.328125 23.390625 \r\n",
       "Q 57.328125 12.15625 50.6875 5.359375 \r\n",
       "Q 44.046875 -1.421875 33.015625 -1.421875 \r\n",
       "Q 20.359375 -1.421875 13.671875 8.265625 \r\n",
       "Q 6.984375 17.96875 6.984375 36.375 \r\n",
       "Q 6.984375 53.65625 15.1875 63.9375 \r\n",
       "Q 23.390625 74.21875 37.203125 74.21875 \r\n",
       "Q 40.921875 74.21875 44.703125 73.484375 \r\n",
       "Q 48.484375 72.75 52.59375 71.296875 \r\n",
       "z\r\n",
       "\" id=\"DejaVuSans-54\"/>\r\n",
       "       </defs>\r\n",
       "       <use xlink:href=\"#DejaVuSans-54\"/>\r\n",
       "      </g>\r\n",
       "     </g>\r\n",
       "    </g>\r\n",
       "    <g id=\"ytick_4\">\r\n",
       "     <g id=\"line2d_11\">\r\n",
       "      <g>\r\n",
       "       <use style=\"stroke:#000000;stroke-width:0.8;\" x=\"48.345625\" xlink:href=\"#m26e605ce97\" y=\"122.509091\"/>\r\n",
       "      </g>\r\n",
       "     </g>\r\n",
       "     <g id=\"text_12\">\r\n",
       "      <!-- 8 -->\r\n",
       "      <g transform=\"translate(34.983125 126.30831)scale(0.1 -0.1)\">\r\n",
       "       <defs>\r\n",
       "        <path d=\"M 31.78125 34.625 \r\n",
       "Q 24.75 34.625 20.71875 30.859375 \r\n",
       "Q 16.703125 27.09375 16.703125 20.515625 \r\n",
       "Q 16.703125 13.921875 20.71875 10.15625 \r\n",
       "Q 24.75 6.390625 31.78125 6.390625 \r\n",
       "Q 38.8125 6.390625 42.859375 10.171875 \r\n",
       "Q 46.921875 13.96875 46.921875 20.515625 \r\n",
       "Q 46.921875 27.09375 42.890625 30.859375 \r\n",
       "Q 38.875 34.625 31.78125 34.625 \r\n",
       "z\r\n",
       "M 21.921875 38.8125 \r\n",
       "Q 15.578125 40.375 12.03125 44.71875 \r\n",
       "Q 8.5 49.078125 8.5 55.328125 \r\n",
       "Q 8.5 64.0625 14.71875 69.140625 \r\n",
       "Q 20.953125 74.21875 31.78125 74.21875 \r\n",
       "Q 42.671875 74.21875 48.875 69.140625 \r\n",
       "Q 55.078125 64.0625 55.078125 55.328125 \r\n",
       "Q 55.078125 49.078125 51.53125 44.71875 \r\n",
       "Q 48 40.375 41.703125 38.8125 \r\n",
       "Q 48.828125 37.15625 52.796875 32.3125 \r\n",
       "Q 56.78125 27.484375 56.78125 20.515625 \r\n",
       "Q 56.78125 9.90625 50.3125 4.234375 \r\n",
       "Q 43.84375 -1.421875 31.78125 -1.421875 \r\n",
       "Q 19.734375 -1.421875 13.25 4.234375 \r\n",
       "Q 6.78125 9.90625 6.78125 20.515625 \r\n",
       "Q 6.78125 27.484375 10.78125 32.3125 \r\n",
       "Q 14.796875 37.15625 21.921875 38.8125 \r\n",
       "z\r\n",
       "M 18.3125 54.390625 \r\n",
       "Q 18.3125 48.734375 21.84375 45.5625 \r\n",
       "Q 25.390625 42.390625 31.78125 42.390625 \r\n",
       "Q 38.140625 42.390625 41.71875 45.5625 \r\n",
       "Q 45.3125 48.734375 45.3125 54.390625 \r\n",
       "Q 45.3125 60.0625 41.71875 63.234375 \r\n",
       "Q 38.140625 66.40625 31.78125 66.40625 \r\n",
       "Q 25.390625 66.40625 21.84375 63.234375 \r\n",
       "Q 18.3125 60.0625 18.3125 54.390625 \r\n",
       "z\r\n",
       "\" id=\"DejaVuSans-56\"/>\r\n",
       "       </defs>\r\n",
       "       <use xlink:href=\"#DejaVuSans-56\"/>\r\n",
       "      </g>\r\n",
       "     </g>\r\n",
       "    </g>\r\n",
       "    <g id=\"ytick_5\">\r\n",
       "     <g id=\"line2d_12\">\r\n",
       "      <g>\r\n",
       "       <use style=\"stroke:#000000;stroke-width:0.8;\" x=\"48.345625\" xlink:href=\"#m26e605ce97\" y=\"96.152727\"/>\r\n",
       "      </g>\r\n",
       "     </g>\r\n",
       "     <g id=\"text_13\">\r\n",
       "      <!-- 10 -->\r\n",
       "      <g transform=\"translate(28.620625 99.951946)scale(0.1 -0.1)\">\r\n",
       "       <use xlink:href=\"#DejaVuSans-49\"/>\r\n",
       "       <use x=\"63.623047\" xlink:href=\"#DejaVuSans-48\"/>\r\n",
       "      </g>\r\n",
       "     </g>\r\n",
       "    </g>\r\n",
       "    <g id=\"ytick_6\">\r\n",
       "     <g id=\"line2d_13\">\r\n",
       "      <g>\r\n",
       "       <use style=\"stroke:#000000;stroke-width:0.8;\" x=\"48.345625\" xlink:href=\"#m26e605ce97\" y=\"69.796364\"/>\r\n",
       "      </g>\r\n",
       "     </g>\r\n",
       "     <g id=\"text_14\">\r\n",
       "      <!-- 12 -->\r\n",
       "      <g transform=\"translate(28.620625 73.595582)scale(0.1 -0.1)\">\r\n",
       "       <use xlink:href=\"#DejaVuSans-49\"/>\r\n",
       "       <use x=\"63.623047\" xlink:href=\"#DejaVuSans-50\"/>\r\n",
       "      </g>\r\n",
       "     </g>\r\n",
       "    </g>\r\n",
       "    <g id=\"ytick_7\">\r\n",
       "     <g id=\"line2d_14\">\r\n",
       "      <g>\r\n",
       "       <use style=\"stroke:#000000;stroke-width:0.8;\" x=\"48.345625\" xlink:href=\"#m26e605ce97\" y=\"43.44\"/>\r\n",
       "      </g>\r\n",
       "     </g>\r\n",
       "     <g id=\"text_15\">\r\n",
       "      <!-- 14 -->\r\n",
       "      <g transform=\"translate(28.620625 47.239219)scale(0.1 -0.1)\">\r\n",
       "       <use xlink:href=\"#DejaVuSans-49\"/>\r\n",
       "       <use x=\"63.623047\" xlink:href=\"#DejaVuSans-52\"/>\r\n",
       "      </g>\r\n",
       "     </g>\r\n",
       "    </g>\r\n",
       "    <g id=\"ytick_8\">\r\n",
       "     <g id=\"line2d_15\">\r\n",
       "      <g>\r\n",
       "       <use style=\"stroke:#000000;stroke-width:0.8;\" x=\"48.345625\" xlink:href=\"#m26e605ce97\" y=\"17.083636\"/>\r\n",
       "      </g>\r\n",
       "     </g>\r\n",
       "     <g id=\"text_16\">\r\n",
       "      <!-- 16 -->\r\n",
       "      <g transform=\"translate(28.620625 20.882855)scale(0.1 -0.1)\">\r\n",
       "       <use xlink:href=\"#DejaVuSans-49\"/>\r\n",
       "       <use x=\"63.623047\" xlink:href=\"#DejaVuSans-54\"/>\r\n",
       "      </g>\r\n",
       "     </g>\r\n",
       "    </g>\r\n",
       "    <g id=\"text_17\">\r\n",
       "     <!-- here we use Latex: $x^y$ -->\r\n",
       "     <g transform=\"translate(20.877187 214.38)rotate(-90)scale(0.18 -0.18)\">\r\n",
       "      <defs>\r\n",
       "       <path d=\"M 41.109375 46.296875 \r\n",
       "Q 39.59375 47.171875 37.8125 47.578125 \r\n",
       "Q 36.03125 48 33.890625 48 \r\n",
       "Q 26.265625 48 22.1875 43.046875 \r\n",
       "Q 18.109375 38.09375 18.109375 28.8125 \r\n",
       "L 18.109375 0 \r\n",
       "L 9.078125 0 \r\n",
       "L 9.078125 54.6875 \r\n",
       "L 18.109375 54.6875 \r\n",
       "L 18.109375 46.1875 \r\n",
       "Q 20.953125 51.171875 25.484375 53.578125 \r\n",
       "Q 30.03125 56 36.53125 56 \r\n",
       "Q 37.453125 56 38.578125 55.875 \r\n",
       "Q 39.703125 55.765625 41.0625 55.515625 \r\n",
       "z\r\n",
       "\" id=\"DejaVuSans-114\"/>\r\n",
       "       <path d=\"M 4.203125 54.6875 \r\n",
       "L 13.1875 54.6875 \r\n",
       "L 24.421875 12.015625 \r\n",
       "L 35.59375 54.6875 \r\n",
       "L 46.1875 54.6875 \r\n",
       "L 57.421875 12.015625 \r\n",
       "L 68.609375 54.6875 \r\n",
       "L 77.59375 54.6875 \r\n",
       "L 63.28125 0 \r\n",
       "L 52.6875 0 \r\n",
       "L 40.921875 44.828125 \r\n",
       "L 29.109375 0 \r\n",
       "L 18.5 0 \r\n",
       "z\r\n",
       "\" id=\"DejaVuSans-119\"/>\r\n",
       "       <path d=\"M 8.5 21.578125 \r\n",
       "L 8.5 54.6875 \r\n",
       "L 17.484375 54.6875 \r\n",
       "L 17.484375 21.921875 \r\n",
       "Q 17.484375 14.15625 20.5 10.265625 \r\n",
       "Q 23.53125 6.390625 29.59375 6.390625 \r\n",
       "Q 36.859375 6.390625 41.078125 11.03125 \r\n",
       "Q 45.3125 15.671875 45.3125 23.6875 \r\n",
       "L 45.3125 54.6875 \r\n",
       "L 54.296875 54.6875 \r\n",
       "L 54.296875 0 \r\n",
       "L 45.3125 0 \r\n",
       "L 45.3125 8.40625 \r\n",
       "Q 42.046875 3.421875 37.71875 1 \r\n",
       "Q 33.40625 -1.421875 27.6875 -1.421875 \r\n",
       "Q 18.265625 -1.421875 13.375 4.4375 \r\n",
       "Q 8.5 10.296875 8.5 21.578125 \r\n",
       "z\r\n",
       "M 31.109375 56 \r\n",
       "z\r\n",
       "\" id=\"DejaVuSans-117\"/>\r\n",
       "       <path d=\"M 9.8125 72.90625 \r\n",
       "L 19.671875 72.90625 \r\n",
       "L 19.671875 8.296875 \r\n",
       "L 55.171875 8.296875 \r\n",
       "L 55.171875 0 \r\n",
       "L 9.8125 0 \r\n",
       "z\r\n",
       "\" id=\"DejaVuSans-76\"/>\r\n",
       "       <path d=\"M 11.71875 12.40625 \r\n",
       "L 22.015625 12.40625 \r\n",
       "L 22.015625 0 \r\n",
       "L 11.71875 0 \r\n",
       "z\r\n",
       "M 11.71875 51.703125 \r\n",
       "L 22.015625 51.703125 \r\n",
       "L 22.015625 39.3125 \r\n",
       "L 11.71875 39.3125 \r\n",
       "z\r\n",
       "\" id=\"DejaVuSans-58\"/>\r\n",
       "       <path d=\"M 60.015625 54.6875 \r\n",
       "L 34.90625 27.875 \r\n",
       "L 50.296875 0 \r\n",
       "L 39.984375 0 \r\n",
       "L 28.421875 21.6875 \r\n",
       "L 8.296875 0 \r\n",
       "L -2.59375 0 \r\n",
       "L 24.3125 28.8125 \r\n",
       "L 10.015625 54.6875 \r\n",
       "L 20.3125 54.6875 \r\n",
       "L 30.8125 34.90625 \r\n",
       "L 49.125 54.6875 \r\n",
       "z\r\n",
       "\" id=\"DejaVuSans-Oblique-120\"/>\r\n",
       "       <path d=\"M 24.8125 -5.078125 \r\n",
       "Q 18.5625 -15.578125 14.625 -18.1875 \r\n",
       "Q 10.6875 -20.796875 4.59375 -20.796875 \r\n",
       "L -2.484375 -20.796875 \r\n",
       "L -0.984375 -13.28125 \r\n",
       "L 4.203125 -13.28125 \r\n",
       "Q 7.953125 -13.28125 10.59375 -11.234375 \r\n",
       "Q 13.234375 -9.1875 16.5 -3.21875 \r\n",
       "L 19.28125 2 \r\n",
       "L 7.171875 54.6875 \r\n",
       "L 16.703125 54.6875 \r\n",
       "L 25.78125 12.796875 \r\n",
       "L 50.875 54.6875 \r\n",
       "L 60.296875 54.6875 \r\n",
       "z\r\n",
       "\" id=\"DejaVuSans-Oblique-121\"/>\r\n",
       "      </defs>\r\n",
       "      <use transform=\"translate(0 0.4375)\" xlink:href=\"#DejaVuSans-104\"/>\r\n",
       "      <use transform=\"translate(63.378906 0.4375)\" xlink:href=\"#DejaVuSans-101\"/>\r\n",
       "      <use transform=\"translate(124.902344 0.4375)\" xlink:href=\"#DejaVuSans-114\"/>\r\n",
       "      <use transform=\"translate(166.015625 0.4375)\" xlink:href=\"#DejaVuSans-101\"/>\r\n",
       "      <use transform=\"translate(227.539062 0.4375)\" xlink:href=\"#DejaVuSans-32\"/>\r\n",
       "      <use transform=\"translate(259.326172 0.4375)\" xlink:href=\"#DejaVuSans-119\"/>\r\n",
       "      <use transform=\"translate(341.113281 0.4375)\" xlink:href=\"#DejaVuSans-101\"/>\r\n",
       "      <use transform=\"translate(402.636719 0.4375)\" xlink:href=\"#DejaVuSans-32\"/>\r\n",
       "      <use transform=\"translate(434.423828 0.4375)\" xlink:href=\"#DejaVuSans-117\"/>\r\n",
       "      <use transform=\"translate(497.802734 0.4375)\" xlink:href=\"#DejaVuSans-115\"/>\r\n",
       "      <use transform=\"translate(549.902344 0.4375)\" xlink:href=\"#DejaVuSans-101\"/>\r\n",
       "      <use transform=\"translate(611.425781 0.4375)\" xlink:href=\"#DejaVuSans-32\"/>\r\n",
       "      <use transform=\"translate(643.212891 0.4375)\" xlink:href=\"#DejaVuSans-76\"/>\r\n",
       "      <use transform=\"translate(698.925781 0.4375)\" xlink:href=\"#DejaVuSans-97\"/>\r\n",
       "      <use transform=\"translate(760.205078 0.4375)\" xlink:href=\"#DejaVuSans-116\"/>\r\n",
       "      <use transform=\"translate(799.414062 0.4375)\" xlink:href=\"#DejaVuSans-101\"/>\r\n",
       "      <use transform=\"translate(860.9375 0.4375)\" xlink:href=\"#DejaVuSans-120\"/>\r\n",
       "      <use transform=\"translate(920.117188 0.4375)\" xlink:href=\"#DejaVuSans-58\"/>\r\n",
       "      <use transform=\"translate(953.808594 0.4375)\" xlink:href=\"#DejaVuSans-32\"/>\r\n",
       "      <use transform=\"translate(985.595703 0.4375)\" xlink:href=\"#DejaVuSans-Oblique-120\"/>\r\n",
       "      <use transform=\"translate(1049.241536 38.71875)scale(0.7)\" xlink:href=\"#DejaVuSans-Oblique-121\"/>\r\n",
       "     </g>\r\n",
       "    </g>\r\n",
       "   </g>\r\n",
       "   <g id=\"line2d_16\">\r\n",
       "    <path clip-path=\"url(#p4ebefbe9d1)\" d=\"M 63.563807 214.756364 \r\n",
       "L 165.018352 175.221818 \r\n",
       "L 266.472898 109.330909 \r\n",
       "L 367.927443 17.083636 \r\n",
       "\" style=\"fill:none;stroke:#1f77b4;stroke-linecap:square;stroke-width:1.5;\"/>\r\n",
       "    <defs>\r\n",
       "     <path d=\"M 0 6 \r\n",
       "C 1.591219 6 3.117479 5.367802 4.242641 4.242641 \r\n",
       "C 5.367802 3.117479 6 1.591219 6 0 \r\n",
       "C 6 -1.591219 5.367802 -3.117479 4.242641 -4.242641 \r\n",
       "C 3.117479 -5.367802 1.591219 -6 0 -6 \r\n",
       "C -1.591219 -6 -3.117479 -5.367802 -4.242641 -4.242641 \r\n",
       "C -5.367802 -3.117479 -6 -1.591219 -6 0 \r\n",
       "C -6 1.591219 -5.367802 3.117479 -4.242641 4.242641 \r\n",
       "C -3.117479 5.367802 -1.591219 6 0 6 \r\n",
       "z\r\n",
       "\" id=\"m5613954f5d\" style=\"stroke:#1f77b4;\"/>\r\n",
       "    </defs>\r\n",
       "    <g clip-path=\"url(#p4ebefbe9d1)\">\r\n",
       "     <use style=\"fill:#1f77b4;stroke:#1f77b4;\" x=\"63.563807\" xlink:href=\"#m5613954f5d\" y=\"214.756364\"/>\r\n",
       "     <use style=\"fill:#1f77b4;stroke:#1f77b4;\" x=\"165.018352\" xlink:href=\"#m5613954f5d\" y=\"175.221818\"/>\r\n",
       "     <use style=\"fill:#1f77b4;stroke:#1f77b4;\" x=\"266.472898\" xlink:href=\"#m5613954f5d\" y=\"109.330909\"/>\r\n",
       "     <use style=\"fill:#1f77b4;stroke:#1f77b4;\" x=\"367.927443\" xlink:href=\"#m5613954f5d\" y=\"17.083636\"/>\r\n",
       "    </g>\r\n",
       "   </g>\r\n",
       "   <g id=\"patch_3\">\r\n",
       "    <path d=\"M 48.345625 224.64 \r\n",
       "L 48.345625 7.2 \r\n",
       "\" style=\"fill:none;stroke:#000000;stroke-linecap:square;stroke-linejoin:miter;stroke-width:0.8;\"/>\r\n",
       "   </g>\r\n",
       "   <g id=\"patch_4\">\r\n",
       "    <path d=\"M 383.145625 224.64 \r\n",
       "L 383.145625 7.2 \r\n",
       "\" style=\"fill:none;stroke:#000000;stroke-linecap:square;stroke-linejoin:miter;stroke-width:0.8;\"/>\r\n",
       "   </g>\r\n",
       "   <g id=\"patch_5\">\r\n",
       "    <path d=\"M 48.345625 224.64 \r\n",
       "L 383.145625 224.64 \r\n",
       "\" style=\"fill:none;stroke:#000000;stroke-linecap:square;stroke-linejoin:miter;stroke-width:0.8;\"/>\r\n",
       "   </g>\r\n",
       "   <g id=\"patch_6\">\r\n",
       "    <path d=\"M 48.345625 7.2 \r\n",
       "L 383.145625 7.2 \r\n",
       "\" style=\"fill:none;stroke:#000000;stroke-linecap:square;stroke-linejoin:miter;stroke-width:0.8;\"/>\r\n",
       "   </g>\r\n",
       "  </g>\r\n",
       " </g>\r\n",
       " <defs>\r\n",
       "  <clipPath id=\"p4ebefbe9d1\">\r\n",
       "   <rect height=\"217.44\" width=\"334.8\" x=\"48.345625\" y=\"7.2\"/>\r\n",
       "  </clipPath>\r\n",
       " </defs>\r\n",
       "</svg>\r\n"
      ],
      "text/plain": [
       "<Figure size 432x288 with 1 Axes>"
      ]
     },
     "metadata": {
      "needs_background": "light"
     },
     "output_type": "display_data"
    }
   ],
   "source": [
    "# how to import the library for ploting\n",
    "import matplotlib.pyplot as plt\n",
    "\n",
    "# make a simple plot (using the MATLAB-like interface)\n",
    "plt.plot([1, 2, 3, 4], [1, 4, 9, 16], marker='o', markersize=12)\n",
    "plt.xlabel('this is label x', fontsize=20)\n",
    "plt.ylabel('here we use Latex: $x^y$', fontsize=18)"
   ]
  },
  {
   "cell_type": "code",
   "execution_count": 71,
   "metadata": {},
   "outputs": [],
   "source": [
    "x = np.linspace(0, 2*np.pi, 50)\n",
    "y = np.cos(x)\n",
    "y2 = np.cos(2*x)"
   ]
  },
  {
   "cell_type": "code",
   "execution_count": 72,
   "metadata": {},
   "outputs": [
    {
     "data": {
      "image/png": "[encoded data removed]",
      "text/plain": [
       "<Figure size 432x288 with 1 Axes>"
      ]
     },
     "metadata": {
      "needs_background": "light"
     },
     "output_type": "display_data"
    }
   ],
   "source": [
    "# Make a figure using the object-oriented api (preferred option)\n",
    "fig, ax = plt.subplots()\n",
    "\n",
    "ax.plot(x, y, 'o-', label='cos(x)')\n",
    "ax.plot(x, y2, label='cos(2x)')\n",
    "\n",
    "_ = ax.legend(loc='best')  # we use _ = something to omit the output in the notebook console"
   ]
  },
  {
   "cell_type": "markdown",
   "metadata": {},
   "source": [
    "## 8. Numpy arrays\n",
    "\n",
    "> **What it is?** A core package for scientific computing with Python. It enables the creation of numerical arrays and basic operations with arrays. See https://numpy.org/  \n",
    "> **What it is used for?** Numpy arrays are the standard representation for numerical data in Python. It enables efficient implementation of numerical computations in a high-level language and thus it is the way to go when doing numerical computation and analysing scientific data in Python. Array programming provides a powerful, compact and expressive syntax for accessing, manipulating and operating on data in vectors, matrices and higher-dimensional arrays ([Harris et al. 2020](https://www.nature.com/articles/s41586-020-2649-2)). Many other data-science libraries for Python are built onto NumPy, including Pandas and SciPy (see below).\n"
   ]
  },
  {
   "cell_type": "code",
   "execution_count": 73,
   "metadata": {},
   "outputs": [],
   "source": [
    "# how to import the library\n",
    "import numpy as np"
   ]
  },
  {
   "cell_type": "code",
   "execution_count": 74,
   "metadata": {},
   "outputs": [
    {
     "data": {
      "text/plain": [
       "numpy.ndarray"
      ]
     },
     "execution_count": 74,
     "metadata": {},
     "output_type": "execute_result"
    }
   ],
   "source": [
    "# create a one dimensional array (e.g. a vector)\n",
    "arr1d = np.array([1, 2, 3, 4])\n",
    "type(arr1d)"
   ]
  },
  {
   "cell_type": "code",
   "execution_count": 75,
   "metadata": {},
   "outputs": [
    {
     "name": "stdout",
     "output_type": "stream",
     "text": [
      "shape: (4,)\n",
      "dimensions: 1\n",
      "size: 4\n",
      "element type in the array: int32\n"
     ]
    }
   ],
   "source": [
    "print(f'shape: {arr1d.shape}')\n",
    "print(f'dimensions: {arr1d.ndim}')\n",
    "print(f'size: {arr1d.size}')\n",
    "print(f'element type in the array: {arr1d.dtype}')"
   ]
  },
  {
   "cell_type": "code",
   "execution_count": 76,
   "metadata": {},
   "outputs": [],
   "source": [
    "# create a two dimensional array (e.g. a matrix, a grayscale image, etc.)\n",
    "matrix = np.array([[1, 2, 3],\n",
    "                   [4, 5, 6],\n",
    "                   [7, 8, 9]])"
   ]
  },
  {
   "cell_type": "code",
   "execution_count": 77,
   "metadata": {},
   "outputs": [
    {
     "name": "stdout",
     "output_type": "stream",
     "text": [
      "shape: (3, 3)\n",
      "dimensions: 2\n",
      "size: 9\n"
     ]
    }
   ],
   "source": [
    "print(f'shape: {matrix.shape}')\n",
    "print(f'dimensions: {matrix.ndim}')\n",
    "print(f'size: {matrix.size}')"
   ]
  },
  {
   "cell_type": "code",
   "execution_count": 78,
   "metadata": {},
   "outputs": [
    {
     "data": {
      "text/plain": [
       "array([[1, 4, 7],\n",
       "       [2, 5, 8],\n",
       "       [3, 6, 9]])"
      ]
     },
     "execution_count": 78,
     "metadata": {},
     "output_type": "execute_result"
    }
   ],
   "source": [
    "# transpose a matrix\n",
    "matrix.T"
   ]
  },
  {
   "cell_type": "code",
   "execution_count": 79,
   "metadata": {},
   "outputs": [
    {
     "data": {
      "text/plain": [
       "array([[1, 2],\n",
       "       [3, 4]])"
      ]
     },
     "execution_count": 79,
     "metadata": {},
     "output_type": "execute_result"
    }
   ],
   "source": [
    "# reshape an array\n",
    "arr1d.reshape(2, 2)  # reshape vector in a 2x2 matrix"
   ]
  },
  {
   "cell_type": "code",
   "execution_count": 80,
   "metadata": {},
   "outputs": [
    {
     "data": {
      "text/plain": [
       "array([1, 2, 3, 4, 5, 6, 7, 8, 9])"
      ]
     },
     "execution_count": 80,
     "metadata": {},
     "output_type": "execute_result"
    }
   ],
   "source": [
    "# flatten an n-dimensional array\n",
    "matrix.flatten()"
   ]
  },
  {
   "cell_type": "markdown",
   "metadata": {},
   "source": [
    "### Bitwise operations, broadcasting, and matrix multiplication\n",
    "\n",
    "TODO"
   ]
  },
  {
   "cell_type": "markdown",
   "metadata": {},
   "source": [
    "### Array indexing\n",
    "\n",
    "TODO"
   ]
  },
  {
   "cell_type": "markdown",
   "metadata": {},
   "source": [
    "### Using masks\n",
    "\n",
    "TODO"
   ]
  },
  {
   "cell_type": "code",
   "execution_count": 81,
   "metadata": {},
   "outputs": [
    {
     "data": {
      "text/plain": [
       "array([[1, 2, 3],\n",
       "       [4, 5, 6],\n",
       "       [7, 8, 9]])"
      ]
     },
     "execution_count": 81,
     "metadata": {},
     "output_type": "execute_result"
    }
   ],
   "source": [
    "matrix"
   ]
  },
  {
   "cell_type": "code",
   "execution_count": 82,
   "metadata": {},
   "outputs": [
    {
     "data": {
      "text/plain": [
       "array([[ True,  True,  True],\n",
       "       [ True, False, False],\n",
       "       [False, False, False]])"
      ]
     },
     "execution_count": 82,
     "metadata": {},
     "output_type": "execute_result"
    }
   ],
   "source": [
    "# element-wise conditionals\n",
    "matrix < 5"
   ]
  },
  {
   "cell_type": "markdown",
   "metadata": {},
   "source": [
    "### The numpy ``count_nonzero`` method\n",
    "\n",
    "This is a method that counts the number of non-zero values (i.e. True values) in an array and therefore it is pretty useful when using along masks. TODO"
   ]
  },
  {
   "cell_type": "markdown",
   "metadata": {},
   "source": [
    "### Speed of numpy arrays\n",
    "\n",
    "TODO"
   ]
  },
  {
   "cell_type": "code",
   "execution_count": 83,
   "metadata": {},
   "outputs": [
    {
     "name": "stdout",
     "output_type": "stream",
     "text": [
      "36.9 µs ± 1.14 µs per loop (mean ± std. dev. of 7 runs, 10000 loops each)\n"
     ]
    }
   ],
   "source": [
    "# comparing the speed of Python list and Numpy arrays\n",
    "np_arr = np.random.rand(10**5)  # create a large Numpy array\n",
    "py_list = np_arr.tolist()       # generate a similar Python list\n",
    "\n",
    "# bechmark the speed of Numpy arrays (using the numpy sum method)\n",
    "%timeit np.sum(np_arr)  # equivalent to np_arr.sum()"
   ]
  },
  {
   "cell_type": "code",
   "execution_count": 84,
   "metadata": {},
   "outputs": [
    {
     "name": "stdout",
     "output_type": "stream",
     "text": [
      "344 µs ± 9.38 µs per loop (mean ± std. dev. of 7 runs, 1000 loops each)\n"
     ]
    }
   ],
   "source": [
    "# bechmark the speed of a similar Python list (using the Python sum method)\n",
    "%timeit sum(py_list)"
   ]
  },
  {
   "cell_type": "markdown",
   "metadata": {},
   "source": [
    "You can observe that is this example numpy arrays are almost one order of magnitude faster than Python list. This may vary depending on the size of the object or the speed of your processor but in general a numpy array will be much faster than standard Pyhon structured types such as _lists_, _tuples_, or _dics_ (as they are designed specifically for this type of mathematical operations).\n",
    "\n",
    "> **Gotcha**\n",
    ">\n",
    ">A note of caution here is that to take advantage of this feature you should always use numpy methods with arrays instead of the ones that comes with the Python standard modules, that are designed to operate on standard python structures. This is:\n",
    ">\n",
    ">``np.sum(array)`` or ``array.sum()`` 👍  \n",
    ">``sum(array)`` ❌\n",
    ">\n",
    "> Numpy methods also work on lists but it will convert the list into an array before applying the method."
   ]
  },
  {
   "cell_type": "markdown",
   "metadata": {},
   "source": [
    "bitwise operators (the ones to use with arrays!)\n",
    "```python\n",
    "&  # bitwise AND  \n",
    "|  # bitwise OR \n",
    "~  # bitwise NOT\n",
    "^  # bitwise XOR\n",
    "```"
   ]
  },
  {
   "cell_type": "markdown",
   "metadata": {},
   "source": [
    "> More information on Numpy arrays:  \n",
    "> - Absolute basics for beginners tutorial: https://numpy.org/devdocs/user/absolute_beginners.html\n",
    "> - Introduction to numerical computing with Numpy (video tutorial): https://www.youtube.com/watch?v=ZB7BZMhfPgk&list=PLJwqroIMlqSFUnbwMrnS8G0obzQg1tNCI"
   ]
  },
  {
   "cell_type": "markdown",
   "metadata": {},
   "source": [
    "## 9. Pandas Dataframes\n",
    "\n",
    "> **What it is?** A library for dealing with tabular data structures, data analysis, and data modeling tools, including built-in plotting using Matplotlib. See https://pandas.pydata.org/   \n",
    "> **What it is used for?** Data manipulation of tabular-like dataset. Pandas includes efficient methods for reading and writing a wide variety of data, including CSV files, Excel, etc.\n"
   ]
  },
  {
   "cell_type": "code",
   "execution_count": 85,
   "metadata": {},
   "outputs": [],
   "source": [
    "# how to import the library\n",
    "import pandas as pd"
   ]
  },
  {
   "cell_type": "code",
   "execution_count": null,
   "metadata": {},
   "outputs": [],
   "source": []
  }
 ],
 "metadata": {
  "kernelspec": {
   "name": "python394jvsc74a57bd084560f56ecfa3f87bb2acd256437df3bdea56912525622043038c1ccf2e083ce",
   "display_name": "Python 3.9.4 64-bit ('base': conda)"
  },
  "language_info": {
   "codemirror_mode": {
    "name": "ipython",
    "version": 3
   },
   "file_extension": ".py",
   "mimetype": "text/x-python",
   "name": "python",
   "nbconvert_exporter": "python",
   "pygments_lexer": "ipython3",
   "version": "3.9.4"
  }
 },
 "nbformat": 4,
 "nbformat_minor": 4
}
{
 "cells": [
  {
   "cell_type": "markdown",
   "metadata": {},
   "source": [
    "# Example of calculation of a stable geotherm\n",
    "\n",
    "Copyright 2020 Marco A. Lopez-Sanchez\n",
    "\n",
    "Mozilla Public License 2.0: https://www.mozilla.org/en-US/MPL/2.0/\n",
    "\n",
    "> **Goal of the notebook**: Estimate and plot a steady-state thermal gradient for the continental lithosphere considering a two-layer model (crust vs lithospheric mantle) using the Turcotte and Schubert (1982) model."
   ]
  },
  {
   "cell_type": "code",
   "execution_count": 1,
   "metadata": {},
   "outputs": [],
   "source": [
    "# import the required Python scientific libraries\n",
    "import numpy as np\n",
    "import matplotlib.pyplot as plt\n",
    "import matplotlib as mpl\n",
    "mpl.rcParams['axes.labelsize'] = 'large'"
   ]
  },
  {
   "cell_type": "markdown",
   "metadata": {},
   "source": [
    "TODO -> Flow laws\n",
    "\n",
    "Let's make some assumptions first: \n",
    "- the geotherm is in **steady state** and thus temperature only vary as a function of depth $(z)$.\n",
    "- Heat is transferred by conduction in the lithosphere.\n",
    "- The temperature gradient with depth $(\\frac{dT}{dz})$ depends on heat conduction plus the heat produced due to radioactive decay.\n",
    "- Radioactive heat production in the crust and the mantle is independent of depth.\n",
    "\n",
    "Taking this assumptions, Turcotte and Schubert (1982) proposed an analytical solution of the heat equation that have three terms\n",
    "\n",
    "$T_z = T_{z0} + \\frac{J_q}{K}(z - z_0) - \\frac{A_0}{2K}(z - z_0)^2  $\n",
    "\n",
    "where $T_z$ is the temperature variation with depth, $T_{z0}$, is the temperature on the surface of the Earth, $J_q$ is the average heat flux, $K$ the coefficient of thermal conductivity, and $A_0$ the average heat productivity. The second and the third terms of the equation account for the heat conduction and the heat production due to radioactivity, respectively. This equation allow us to estimate the temperature gradient from the surface temperature if we know the parameters $J_q$, $K$, and $A_0$.\n",
    "\n",
    "Now, let's write within a Python function named ``turcotte_schubert_model``:"
   ]
  },
  {
   "cell_type": "code",
   "execution_count": 2,
   "metadata": {},
   "outputs": [],
   "source": [
    "def turcotte_schubert_model(z0, z, T0, Jq, A, K):\n",
    "    \"\"\" Apply the equation (model) of Turcotte and Schubert (1982) (ts) to estimate\n",
    "    a steady-state geotherm (i.e. the T at a given depth)\n",
    "\n",
    "    Parameters (all positive scalars)\n",
    "    ----------\n",
    "    z0 : upper depth limit [km]\n",
    "    z : lower depth limit [km]\n",
    "    T0 : temperature at the upper depth limit [K]\n",
    "    Jq : average heat flux [mW m**-2]\n",
    "    A : average heat productivity [microW m**-3]\n",
    "    K : coefficient of thermal conductivity [W m**-1 K**-1]\n",
    "\n",
    "    Assumptions\n",
    "    -----------\n",
    "    TODO\n",
    "\n",
    "    Returns\n",
    "    -------\n",
    "    The temperature in K, a floating point number\n",
    "    \"\"\"\n",
    "    \n",
    "    # check for positive values\n",
    "    if np.any([z0, T0, Jq, A, K]) < 0 and np.any(z) < 0:\n",
    "        print('all parameters must be positive scalars')\n",
    "\n",
    "    return T0 + ((Jq / K) * (z - z0)) - ((A / (2 * K)) * (z - z0)**2)"
   ]
  },
  {
   "cell_type": "markdown",
   "metadata": {},
   "source": [
    "Now let set the boundary conditions for the model."
   ]
  },
  {
   "cell_type": "code",
   "execution_count": 3,
   "metadata": {},
   "outputs": [],
   "source": [
    "moho = 38.8 # Continental crust thickness [m], average from Hacker et al. (2015)\n",
    "Lab = 81  # Lithosphere-asthenosphere boundary (Lab) [m], average beneath tectonically altered regions (Rychert and Shearer, 2009)\n",
    "T_init = 7.5  # surface T at the KTB superdeep borehole\n",
    "\n",
    "# Average heat parameters for the crust and the mantle\n",
    "Jq_crust = 65  # Average heat flux [mW m**-2] from Jaupar and Mareschal (2007)\n",
    "A_crust = 0.97  # Average rate of radiogenic heat production [microW m**-3] from Huang et al. (2013)\n",
    "K_crust = 2.51  # Coefficient of thermal conductivity [W m**-1 K**-1] from Sclater et al. (1980)\n",
    "\n",
    "Jq_mantle = 34  # from Sclater et al. (1980)\n",
    "A_mantle = 0.01  # from Sclater et al. (1980)\n",
    "K_mantle = 3.35  # in peridotite at room T (Sclater et al., 1980)"
   ]
  },
  {
   "cell_type": "markdown",
   "metadata": {},
   "source": [
    "Now we need to generate an array with the depths...TODO"
   ]
  },
  {
   "cell_type": "code",
   "execution_count": 4,
   "metadata": {},
   "outputs": [],
   "source": [
    "# generate a linear spaced array of depths every 10 m from 0 to the depth of the\n",
    "# lithosphere-asthenosphere boundary (Lab)\n",
    "depths = np.linspace(start=0, stop=Lab, num=8100)"
   ]
  },
  {
   "cell_type": "code",
   "execution_count": 5,
   "metadata": {},
   "outputs": [],
   "source": [
    "T_crust = turcotte_schubert_model(0,\n",
    "                                  depths[depths <= moho],\n",
    "                                  T_init,\n",
    "                                  Jq_crust,\n",
    "                                  A_crust,\n",
    "                                  K_crust)"
   ]
  },
  {
   "cell_type": "code",
   "execution_count": 6,
   "metadata": {},
   "outputs": [
    {
     "data": {
      "text/plain": [
       "Text(0.5, 0, 'Depth (km)')"
      ]
     },
     "execution_count": 6,
     "metadata": {},
     "output_type": "execute_result"
    },
    {
     "data": {
      "image/png": "[encoded data removed]",
      "text/plain": [
       "<Figure size 432x288 with 1 Axes>"
      ]
     },
     "metadata": {
      "needs_background": "light"
     },
     "output_type": "display_data"
    }
   ],
   "source": [
    "# plot depth vs temperature\n",
    "plt.plot(depths[depths <= moho], T_crust, label='stable geotherm')\n",
    "plt.ylabel('Temperature $^{\\circ}C$')\n",
    "plt.xlabel('Depth (km)')"
   ]
  },
  {
   "cell_type": "code",
   "execution_count": 7,
   "metadata": {},
   "outputs": [],
   "source": [
    "# get the closest depth to the Moho\n",
    "new_ref_frame = depths[depths <= moho][-1]\n",
    "\n",
    "# Estimate the T gradient\n",
    "T_mantle = turcotte_schubert_model(new_ref_frame,  # the depth of the Moho (i.e. where the mantle begins)\n",
    "                                   depths[depths > moho],\n",
    "                                   T_crust[-1],  # take the T at the Moho as T0\n",
    "                                   Jq_mantle,\n",
    "                                   A_mantle,\n",
    "                                   K_mantle)\n",
    "\n",
    "# Stack the two arrays in sequence horizontally \n",
    "T_values = np.hstack((T_crust, T_mantle))"
   ]
  },
  {
   "cell_type": "code",
   "execution_count": 8,
   "metadata": {},
   "outputs": [
    {
     "data": {
      "text/plain": [
       "Text(0.5, 0, 'Depth (km)')"
      ]
     },
     "execution_count": 8,
     "metadata": {},
     "output_type": "execute_result"
    },
    {
     "data": {
      "image/png": "[encoded data removed]",
      "text/plain": [
       "<Figure size 432x288 with 1 Axes>"
      ]
     },
     "metadata": {
      "needs_background": "light"
     },
     "output_type": "display_data"
    }
   ],
   "source": [
    "plt.plot(depths, T_values)\n",
    "plt.plot([moho, moho], [0, 1100], color='black', linestyle='dashed')\n",
    "plt.ylabel('Temperature $^{\\circ}C$')\n",
    "plt.xlabel('Depth (km)')"
   ]
  },
  {
   "cell_type": "markdown",
   "metadata": {},
   "source": [
    "Now, we"
   ]
  }
 ],
 "metadata": {
  "kernelspec": {
   "display_name": "Python 3",
   "language": "python",
   "name": "python3"
  },
  "language_info": {
   "codemirror_mode": {
    "name": "ipython",
    "version": 3
   },
   "file_extension": ".py",
   "mimetype": "text/x-python",
   "name": "python",
   "nbconvert_exporter": "python",
   "pygments_lexer": "ipython3",
   "version": "3.7.9"
  }
 },
 "nbformat": 4,
 "nbformat_minor": 4
}

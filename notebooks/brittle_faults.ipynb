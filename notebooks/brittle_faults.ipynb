{
 "cells": [
  {
   "cell_type": "markdown",
   "metadata": {},
   "source": [
    "# Calculate frictional slopes\n",
    "\n",
    "Copyright 2020 Marco A. Lopez-Sanchez\n",
    "\n",
    "Mozilla Public License 2.0: https://www.mozilla.org/en-US/MPL/2.0/\n",
    "\n",
    "> **Goal of the notebook**: Understand the basics of brittle deformation and calculate frictional slopes. The Coulomb fracture criterion, Byerlees's and Amonton's laws, the Hubbert-Rubey fluid-pressure hypothesis, and the Anderson's theory will be introduced."
   ]
  },
  {
   "cell_type": "code",
   "execution_count": null,
   "metadata": {},
   "outputs": [],
   "source": [
    "def Anderson_fault(fault_type, depths, densities, mu, C0, lamb, g):\n",
    "    \"\"\" Returns the corresponding differential stress in MPa for a specific depth\n",
    "    based on the Anderson theory of faulting (Anderson, 1905) and the Coulomb–\n",
    "    Navier’s law of friction.\n",
    "\n",
    "    Parameters\n",
    "    ----------\n",
    "    fault_type : string\n",
    "        the type of fault, either 'inverse', 'normal' or 'strike-slip'\n",
    "    depths : array-like\n",
    "        an array-like with the depths [km]\n",
    "    densities : array-like\n",
    "        the corresponding average density [kg/m**3]\n",
    "    mu : positive scalar\n",
    "        coefficient of friction\n",
    "    C0 : positive scalar\n",
    "        internal cohesion of the rock [MPa]\n",
    "    lamb : positive scalar\n",
    "        coefficient of fluid pressure\n",
    "    g : scalar\n",
    "        average gravitational acceleration [m/s**2]\n",
    "    \"\"\"\n",
    "\n",
    "    depths = 1000 * depths  # convert km to m\n",
    "\n",
    "    if fault_type == 'thrust':\n",
    "        diff_stress = (2 * (C0 + mu * densities * g * depths * (1 - lamb))) / (np.sqrt(mu**2 + 1) - mu)\n",
    "\n",
    "    elif fault_type == 'strike-slip':\n",
    "        diff_stress = (2 * (C0 + mu * densities * g * depths * (1 - lamb))) / (np.sqrt(mu**2 + 1))\n",
    "\n",
    "    elif fault_type == 'extension':\n",
    "        diff_stress = (- 2 * (C0 - mu * densities * g * depths * (1 - lamb))) / (np.sqrt(mu**2 + 1) + mu)\n",
    "\n",
    "    return diff_stress / 10**6"
   ]
  }
 ],
 "metadata": {
  "kernelspec": {
   "display_name": "Python 3",
   "language": "python",
   "name": "python3"
  },
  "language_info": {
   "codemirror_mode": {
    "name": "ipython",
    "version": 3
   },
   "file_extension": ".py",
   "mimetype": "text/x-python",
   "name": "python",
   "nbconvert_exporter": "python",
   "pygments_lexer": "ipython3",
   "version": "3.7.9"
  }
 },
 "nbformat": 4,
 "nbformat_minor": 4
}
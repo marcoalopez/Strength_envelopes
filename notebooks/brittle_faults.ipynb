{
 "cells": [
  {
   "cell_type": "markdown",
   "metadata": {},
   "source": [
    "# Calculate frictional slopes\n",
    "\n",
    "Copyright 2020 Marco A. Lopez-Sanchez\n",
    "\n",
    "Mozilla Public License 2.0: https://www.mozilla.org/en-US/MPL/2.0/\n",
    "\n",
    "> **Goal of the notebook**: Understand the basics of brittle deformation and calculate frictional slopes. The Mohr-Coulomb fracture criterion, Byerlees's and Amonton's laws and the Anderson's theory will be introduced."
   ]
  },
  {
   "cell_type": "code",
   "execution_count": null,
   "metadata": {},
   "outputs": [],
   "source": []
  }
 ],
 "metadata": {
  "kernelspec": {
   "display_name": "Python 3",
   "language": "python",
   "name": "python3"
  },
  "language_info": {
   "codemirror_mode": {
    "name": "ipython",
    "version": 3
   },
   "file_extension": ".py",
   "mimetype": "text/x-python",
   "name": "python",
   "nbconvert_exporter": "python",
   "pygments_lexer": "ipython3",
   "version": "3.7.9"
  }
 },
 "nbformat": 4,
 "nbformat_minor": 4
}

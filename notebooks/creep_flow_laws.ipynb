{
 "cells": [
  {
   "cell_type": "markdown",
   "metadata": {},
   "source": [
    "# Calculate (power-law) creep envelopes\n",
    "\n",
    "Copyright 2020 Marco A. Lopez-Sanchez\n",
    "\n",
    "Mozilla Public License 2.0: https://www.mozilla.org/en-US/MPL/2.0/\n",
    "\n",
    "> **Goal of the notebook**: Understand flow laws and estimate power-law creep envelopes for different rock types."
   ]
  },
  {
   "cell_type": "code",
   "execution_count": null,
   "metadata": {},
   "outputs": [],
   "source": []
  }
 ],
 "metadata": {
  "kernelspec": {
   "display_name": "Python 3",
   "language": "python",
   "name": "python3"
  },
  "language_info": {
   "codemirror_mode": {
    "name": "ipython",
    "version": 3
   },
   "file_extension": ".py",
   "mimetype": "text/x-python",
   "name": "python",
   "nbconvert_exporter": "python",
   "pygments_lexer": "ipython3",
   "version": "3.7.9"
  }
 },
 "nbformat": 4,
 "nbformat_minor": 4
}

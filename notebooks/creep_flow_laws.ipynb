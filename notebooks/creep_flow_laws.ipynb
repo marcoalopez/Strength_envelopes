{
 "cells": [
  {
   "cell_type": "markdown",
   "metadata": {},
   "source": [
    "# Calculate (power-law) creep envelopes\n",
    "\n",
    "Copyright 2020 Marco A. Lopez-Sanchez.  \n",
    "Content under [Creative Commons Attribution license CC-BY 4.0](https://creativecommons.org/licenses/by/4.0/), code under [Mozilla Public License 2.0](https://www.mozilla.org/en-US/MPL/2.0/).\n",
    "\n",
    "> **Goal of the notebook**: Understand flow laws and estimate power-law creep envelopes for different rock types."
   ]
  },
  {
   "cell_type": "code",
   "execution_count": null,
   "metadata": {},
   "outputs": [],
   "source": [
    "def power_law_creep(ss, A, n, Q, R, T, P, V, d, m, f, r):\n",
    "    \"\"\" Return the neccesary differential stress (Tresca criterion) in\n",
    "    MPa for permanently deforming a polycrystalline material at a given\n",
    "    environmental conditions.\n",
    "\n",
    "    Parameters (all positive scalars)\n",
    "    ----------\n",
    "    ss : strain rate [s**-1]\n",
    "    A : material constant [MPa**-n s**-1]\n",
    "    n : stress exponent\n",
    "    Q : activation energy [J mol**-1]\n",
    "    R : universal gas constant [J mol**-1 K**-1]\n",
    "    T : absolute temperature [K]\n",
    "    P : pressure [MPa]\n",
    "    V : activation volume per mol [m**3 mol**-1]\n",
    "    d : average grain size [microns]\n",
    "    m : grain size exponent\n",
    "    f : fugacity of water [water molecules per 1e6 Si atoms]\n",
    "    r : water fugacity exponent\n",
    "\n",
    "    Assumptions\n",
    "    -----------\n",
    "    - Steady-state creep\n",
    "    - Moderate stress regime (roughly between 20 - 200 MPa)\n",
    "    - Effect of partial melt ignored\n",
    "    \"\"\"\n",
    "\n",
    "    return (ss * (d**m) * (f**r) * np.exp((Q + P * V) / (R * T)) / A)**(1 / n)"
   ]
  }
 ],
 "metadata": {
  "kernelspec": {
   "display_name": "Python 3",
   "language": "python",
   "name": "python3"
  },
  "language_info": {
   "codemirror_mode": {
    "name": "ipython",
    "version": 3
   },
   "file_extension": ".py",
   "mimetype": "text/x-python",
   "name": "python",
   "nbconvert_exporter": "python",
   "pygments_lexer": "ipython3",
   "version": "3.7.9"
  }
 },
 "nbformat": 4,
 "nbformat_minor": 4
}
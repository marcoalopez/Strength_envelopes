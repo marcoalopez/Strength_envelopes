{
 "cells": [
  {
   "cell_type": "markdown",
   "metadata": {},
   "source": [
    "# Calculate (power-law) creep envelopes\n",
    "\n",
    "Copyright 2020 Marco A. Lopez-Sanchez.  \n",
    "Content under [Creative Commons Attribution license CC-BY 4.0](https://creativecommons.org/licenses/by/4.0/), code under [Mozilla Public License 2.0](https://www.mozilla.org/en-US/MPL/2.0/).\n",
    "\n",
    "> **The goal of the notebook**: Understand flow laws and estimate power-law creep envelopes for different rock types.\n",
    "\n",
    "## Introduction\n",
    "\n",
    "Below depths of about 10-15 km, the temperature is high enough to favour the processes of creep over those of friction, a phenomenon by which the material is permanently deformed under stress without losing coherence. To describe and predict how rocks deform under such conditions, we need a mathematical rule that relates stress (or force) to strain or strain rate. We called such relation a **flow law**, _deformation law_, or a *constitutive equation*. The adjective _constitutive_ means that this relation depends on the constitution of the material. Many polycrystalline solid materials, such as rocks, glaciers, metals or ceramics, show that at temperatures above half the melting temperature $>0.5T_m$ the strain rate is proportional to the differential stress raised to some power of $n$ once the shear stress is above a threshold value called the [yield stress](https://en.wikipedia.org/wiki/Yield_(engineering)). Below that limit, elastic (recoverable) deformation occurs. This behaviour is generally referred to as [plasticity](https://en.wikipedia.org/wiki/Plasticity_(physics)) or plastic deformation. The two most important features of plastic deformation is that once the yield stress is exceeded, the final deformation depends mainly on time and temperature (which strongly affects strain rates). It is therefore said that plasticity is a process with a strong dependence on time and temperature."
   ]
  },
  {
   "cell_type": "markdown",
   "metadata": {},
   "source": [
    "## Step 1: The power-law creep approximation\n",
    "\n",
    "At low (<20 MPa) or moderate (20-200 MPa) stresses, those expected to operate in the ductile lithosphere, the relationship between differential stress and strain rate for most of the rocks deformed in the laboratory fits a relationship referred to as the _power-law creep_ of the form\n",
    "\n",
    "$$\n",
    "\\dot{\\epsilon} = \\sigma^n_d A \\space exp \\left( \\frac{E}{RT} \\right)\n",
    "$$\n",
    "\n",
    "$$\n",
    "\\sigma_d = \\dot{\\epsilon}^{(1/n)} K \\space exp \\left( \\frac{E}{nRT} \\right)\n",
    "$$\n",
    "\n",
    "$$\n",
    "K = \\left( \\frac{1}{A} \\right)^{1/n}\n",
    "$$\n",
    "\n",
    "where  \n",
    "$\\dot{\\epsilon}$ is the strain rate in $s^{-1}$ that accounts for the _time dependency of the deformation_ once the yield stress is exceeded.  \n",
    "$\\sigma_d$ is the differential stress in MPa.  \n",
    "$n$ the power-law exponent.  \n",
    "$A \\space exp(E/RT)$ is the Arrhenius equation that accounts for the _temperature dependency_ of plastic deformation (see box below for details on this).\n",
    "\n",
    "> The [Arrhenius equation](https://en.wikipedia.org/wiki/Arrhenius_equation) is a model...TODO\n",
    "\n",
    "\n",
    "At moderate differential stresses (20-200 MPa) and temperatures above half the melting temperature $>0.5T_m$, most rock types in the laboratory usually provide values of $n$ between 3 and 5. These rock samples typically develop dynamic recrystallization and preferential crystallographic orientation (CPO), both typical features of a deformation controlled by the creep of dislocations, also known as [dislocation creep](https://en.wikipedia.org/wiki/Dislocation_creep). This is in excellent agreement with what is observed in nature, where the most typical feature in natural planar-like shear zones below 10-15 km is the presence of fine-grained rocks known as [mylonites](https://en.wikipedia.org/wiki/Mylonite) characterized by these very same microstructures. Hence, geophysicists usually use power-law equations of the type shown above with $n$ values typical of the dislocation creep to model the deformation of the lithosphere in its non-frictional part, which seems fair enough as a first approximation since most of the deformation in the lithosphere is accommodated through [crustal-scale shear zones](https://doi.org/10.1016/j.tecto.2012.06.006).\n",
    "\n",
    "\n",
    "### The effect of pressure, grain size, and water fugacity\n",
    "\n",
    "TODO \n",
    "\n",
    "we finally obtain a power-law relation like this\n",
    "\n",
    "$$\n",
    "\\epsilon = A  \\sigma^n d^{-m} f_{H_2O}^r \\space exp \\left( \\frac{E + PV}{RT} \\right)\n",
    "$$\n",
    "\n",
    "$d$ is the average grain size in μm and $m$ the grain size exponent  \n",
    "$f_{H_2O}$ and $r$ are the water fugacity (water molecules per 1e6 Si atoms) and the water fugacity exponent, respectively."
   ]
  },
  {
   "cell_type": "code",
   "execution_count": 1,
   "metadata": {},
   "outputs": [],
   "source": [
    "def power_law_creep(ss, A, n, E, R, T, P, V, d, m, f, r):\n",
    "    \"\"\" Return the neccesary differential stress (Tresca criterion) in\n",
    "    MPa for permanently deforming a polycrystalline material at a given\n",
    "    environmental conditions.\n",
    "\n",
    "    Parameters (all positive scalars)\n",
    "    ----------\n",
    "    ss : strain rate [s**-1]\n",
    "    A : material constant [MPa**-n s**-1]\n",
    "    n : stress exponent\n",
    "    E : activation energy [J mol**-1]\n",
    "    R : universal gas constant [J mol**-1 K**-1]\n",
    "    T : absolute temperature [K]\n",
    "    P : pressure [MPa]\n",
    "    V : activation volume per mol [m**3 mol**-1]\n",
    "    d : average grain size [microns]\n",
    "    m : grain size exponent\n",
    "    f : fugacity of water [water molecules per 1e6 Si atoms]\n",
    "    r : water fugacity exponent\n",
    "\n",
    "    Assumptions\n",
    "    -----------\n",
    "    - Steady-state creep\n",
    "    - Moderate stress regime (roughly between 20 - 200 MPa)\n",
    "    - Effect of partial melt ignored\n",
    "    \"\"\"\n",
    "\n",
    "    return (ss * (d**m) * (f**r) * np.exp((E + P * V) / (R * T)) / A)**(1 / n)"
   ]
  }
 ],
 "metadata": {
  "kernelspec": {
   "display_name": "Python 3",
   "language": "python",
   "name": "python3"
  },
  "language_info": {
   "codemirror_mode": {
    "name": "ipython",
    "version": 3
   },
   "file_extension": ".py",
   "mimetype": "text/x-python",
   "name": "python",
   "nbconvert_exporter": "python",
   "pygments_lexer": "ipython3",
   "version": "3.7.9"
  }
 },
 "nbformat": 4,
 "nbformat_minor": 4
}

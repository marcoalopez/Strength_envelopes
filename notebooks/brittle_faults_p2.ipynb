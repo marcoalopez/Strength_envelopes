{
 "cells": [
  {
   "cell_type": "markdown",
   "id": "da3e2ddc-460d-41dd-b422-43858c7f6939",
   "metadata": {},
   "source": [
    "# Calculate frictional slopes (part 2): the role of pore pressure\n",
    "\n",
    "Copyright 2021 Marco A. Lopez-Sanchez.  \n",
    "Content under [Creative Commons Attribution license CC-BY 4.0](https://creativecommons.org/licenses/by/4.0/), code under [Mozilla Public License 2.0](https://www.mozilla.org/en-US/MPL/2.0/).\n",
    "\n",
    "> **Goals**: Understand Hubbert-Rubey fluid-pressure hypothesis."
   ]
  },
  {
   "cell_type": "code",
   "execution_count": 1,
   "id": "ec05b3eb-1b64-45e1-861b-c60d8f0018be",
   "metadata": {},
   "outputs": [],
   "source": [
    "# import the required Python scientific libraries\n",
    "import numpy as np\n",
    "import pandas as pd\n",
    "import matplotlib.pyplot as plt\n",
    "\n",
    "# set a custom figure style (optional, you can comment on this whole block)\n",
    "import matplotlib as mpl\n",
    "mpl.style.use('fivethirtyeight')\n",
    "mpl.rcParams['figure.facecolor'] = 'white'\n",
    "mpl.rcParams['axes.facecolor'] = 'white'\n",
    "mpl.rcParams['axes.edgecolor'] = 'white'"
   ]
  },
  {
   "cell_type": "markdown",
   "id": "a14a7d59-150e-46e6-af4a-bc3772c92763",
   "metadata": {},
   "source": [
    "## Sliding on a wet facture: the Hubbert-Rubey fluid-pressure hypothesis\n",
    "\n",
    "Coulomb's and Byerlee's models successfully predict some common observations about fragile faults (see examples in Twiss and Moores, 2007). There are, however, notable exceptions such as flat ramps in thrust faults or low-angle extensional faults (the mechanical paradox) TODO\n",
    "\n",
    "This paradox was solved by the Hubert and Rubey model ([Hubbert and Rubey 1959](https://pubs.geoscienceworld.org/gsa/gsabulletin/article-abstract/70/2/115/5071/ROLE-OF-FLUID-PRESSURE-IN-MECHANICS-OF-OVERTHRUST)). Based on previous knowledge of soil mechanics (Terzagui 1936), Hubbert and Rubey envisioned that the _fault shear strength_ not only depends on the _fault‐normal stress_ and the _internal coefficient of friction_ but also the fluid pore pressure. Intuitively, this means that a fluid under pressure along the fracture plane exerts a force that counteracts the _fault‐normal stress_ and, hence, the higher the fluid pore pressure, the smaller the _fault shear strength_ ($\\tau$). This model allows mechanically unfavourable faults to be explained and has been confirmed with direct and indirect measures several times (e.g. [Aydin and Engelder, 2014](https://doi.org/10.1016/j.jsg.2014.07.010); [Suppe, 2014](https://doi.org/10.1016/j.jsg.2014.07.009)). This model adds the concept of _effective normal stress_ $\\sigma_{n}^{eff}$, which is the fault-normal stress taking into account the fluid pore pressure as follows\n",
    "\n",
    "$\\tau = C_0 + \\mu \\sigma_{n}^{eff} = C_0 + \\mu (\\sigma_n - P_f)$\n",
    "\n",
    "where $P_f$ is the pore fluid pressure.\n",
    "\n",
    "An alternative way of articulating this using the ratio between the pore fluid pressure and the lithostatic stress $\\lambda = P_f / \\sigma_L$ as follows\n",
    "\n",
    "$\\tau = C_0 + \\mu \\sigma_n (1-\\lambda)$\n",
    "\n",
    "that hold for the cases when $\\sigma_L \\approx \\sigma_n$"
   ]
  },
  {
   "cell_type": "code",
   "execution_count": null,
   "id": "348cf7c3-d402-45b5-a2b0-3913b7009501",
   "metadata": {},
   "outputs": [],
   "source": [
    "import sys\n",
    "print('Notebook tested using:')\n",
    "print('Python', sys.version)\n",
    "print('Numpy', np.__version__)\n",
    "print('Matplotlib', mpl.__version__)\n",
    "print('Pandas', pd.__version__)"
   ]
  }
 ],
 "metadata": {
  "kernelspec": {
   "display_name": "Python 3",
   "language": "python",
   "name": "python3"
  },
  "language_info": {
   "codemirror_mode": {
    "name": "ipython",
    "version": 3
   },
   "file_extension": ".py",
   "mimetype": "text/x-python",
   "name": "python",
   "nbconvert_exporter": "python",
   "pygments_lexer": "ipython3",
   "version": "3.9.4"
  }
 },
 "nbformat": 4,
 "nbformat_minor": 5
}
